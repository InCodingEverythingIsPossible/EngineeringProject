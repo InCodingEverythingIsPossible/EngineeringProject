{
 "cells": [
  {
   "cell_type": "markdown",
   "metadata": {
    "application/vnd.databricks.v1+cell": {
     "cellMetadata": {
      "byteLimit": 2048000,
      "rowLimit": 10000
     },
     "inputWidgets": {},
     "nuid": "c3f87ba1-68d2-4c5e-a26a-728dcd3e5a41",
     "showTitle": false,
     "tableResultSettingsMap": {},
     "title": ""
    }
   },
   "source": [
    "# Generate the evaluation table with financial metrics"
   ]
  },
  {
   "cell_type": "code",
   "execution_count": 0,
   "metadata": {
    "application/vnd.databricks.v1+cell": {
     "cellMetadata": {
      "byteLimit": 2048000,
      "rowLimit": 10000
     },
     "inputWidgets": {},
     "nuid": "825350ac-ddfe-4ba5-9bf6-bfa2780bf00c",
     "showTitle": false,
     "tableResultSettingsMap": {},
     "title": ""
    }
   },
   "outputs": [],
   "source": [
    "%run \"../utils/mount_configuration\""
   ]
  },
  {
   "cell_type": "code",
   "execution_count": 0,
   "metadata": {
    "application/vnd.databricks.v1+cell": {
     "cellMetadata": {
      "byteLimit": 2048000,
      "rowLimit": 10000
     },
     "inputWidgets": {},
     "nuid": "56579531-bbee-4362-804d-856b38c7186f",
     "showTitle": false,
     "tableResultSettingsMap": {},
     "title": ""
    }
   },
   "outputs": [],
   "source": [
    "# Load evaluation date from 'tickers_quality_evaluation' task\n",
    "evaluation_date = dbutils.jobs.taskValues.get(taskKey=\"tickers_quality_evaluation\", key=\"evaluation_date\", debugValue=\"2025-03-17\")"
   ]
  },
  {
   "cell_type": "code",
   "execution_count": 0,
   "metadata": {
    "application/vnd.databricks.v1+cell": {
     "cellMetadata": {
      "byteLimit": 2048000,
      "rowLimit": 10000
     },
     "inputWidgets": {},
     "nuid": "f8040798-2ac3-46de-82c2-a1069359739a",
     "showTitle": false,
     "tableResultSettingsMap": {},
     "title": ""
    }
   },
   "outputs": [],
   "source": [
    "from pyspark.sql.functions import col\n",
    "\n",
    "warren_buffet_stocks_selection_df = spark.read \\\n",
    "    .format('delta') \\\n",
    "    .load(f'{presentation_folder_path}/warren_buffet_stocks_selection') \\\n",
    "    .filter(col('date') == evaluation_date)\n",
    "\n",
    "# display(warren_buffet_stocks_selection_df)"
   ]
  },
  {
   "cell_type": "code",
   "execution_count": 0,
   "metadata": {
    "application/vnd.databricks.v1+cell": {
     "cellMetadata": {
      "byteLimit": 2048000,
      "rowLimit": 10000
     },
     "inputWidgets": {},
     "nuid": "6478ed75-62e4-47d2-82c8-7eea34587f50",
     "showTitle": false,
     "tableResultSettingsMap": {},
     "title": ""
    }
   },
   "outputs": [],
   "source": [
    "benjamin_graham_stocks_selection_df = spark.read \\\n",
    "    .format('delta') \\\n",
    "    .load(f'{presentation_folder_path}/benjamin_graham_stocks_selection') \\\n",
    "    .filter(col('date') == evaluation_date)\n",
    "\n",
    "# display(benjamin_graham_stocks_selection_df)"
   ]
  },
  {
   "cell_type": "code",
   "execution_count": 0,
   "metadata": {
    "application/vnd.databricks.v1+cell": {
     "cellMetadata": {
      "byteLimit": 2048000,
      "rowLimit": 10000
     },
     "inputWidgets": {},
     "nuid": "2bdbd000-3d3e-4387-afab-d607304aea57",
     "showTitle": false,
     "tableResultSettingsMap": {},
     "title": ""
    }
   },
   "outputs": [],
   "source": [
    "# Creation directory in which will be stored all files for each evalution date \n",
    "directory = f'{presentation_folder_path}/investment_recommendations/{evaluation_date}'\n",
    "dbutils.fs.mkdirs(directory)"
   ]
  },
  {
   "cell_type": "code",
   "execution_count": 0,
   "metadata": {
    "application/vnd.databricks.v1+cell": {
     "cellMetadata": {
      "byteLimit": 2048000,
      "rowLimit": 10000
     },
     "inputWidgets": {},
     "nuid": "501b0fef-a2f9-4d02-8eb0-1b955ae60de3",
     "showTitle": false,
     "tableResultSettingsMap": {},
     "title": ""
    }
   },
   "outputs": [],
   "source": [
    "import pandas as pd\n",
    "import matplotlib.pyplot as plt\n",
    "import seaborn as sns\n",
    "\n",
    "\n",
    "# Save the selected stocks table as an image with customized styling and formatting.\n",
    "def save_table_as_image(stocks_selection, investment_philosophy):\n",
    "\n",
    "    #Basic configs\n",
    "    sns.set(style=\"whitegrid\")\n",
    "    fig, ax = plt.subplots(figsize=(12, 6))\n",
    "    ax.axis('off')  \n",
    "\n",
    "    #Table configs\n",
    "    table = ax.table(cellText=stocks_selection.values, colLabels=stocks_selection.columns, cellLoc='center', loc='center')\n",
    "    table.auto_set_font_size(False)\n",
    "    table.set_fontsize(12)\n",
    "    table.scale(1.2, 1.2)\n",
    "    table.auto_set_font_size(True)\n",
    "\n",
    "    # Adjusting column widths (based on text length in headers)\n",
    "    for i, col in enumerate(stocks_selection.columns):\n",
    "        max_len = max(stocks_selection[col].astype(str).apply(len).max(), len(col))  \n",
    "        table.auto_set_column_width([i]) \n",
    "        table[0, i].set_fontsize(14) \n",
    "\n",
    "    # Coloring the background for headers and rows\n",
    "    for (i, j), cell in table.get_celld().items():\n",
    "        if i == 0:  \n",
    "            cell.set_fontsize(16)\n",
    "            cell.set_text_props(weight='bold')  \n",
    "            cell.set_facecolor('#FFEB99')  \n",
    "        elif i % 2 == 0:  \n",
    "            cell.set_facecolor('#FFF4E6')  \n",
    "        else:  \n",
    "            cell.set_facecolor('#FFFAF1')\n",
    "\n",
    "    #Define filename and whole filepath for the chart\n",
    "    plot_filename = f'{investment_philosophy}_stocks_selection.png'\n",
    "    plot_filepath = f'/dbfs/{directory}/{plot_filename}'\n",
    "    plt.savefig(plot_filepath, bbox_inches='tight', dpi=300)\n",
    "    plt.show()\n",
    "    plt.close()"
   ]
  },
  {
   "cell_type": "code",
   "execution_count": 0,
   "metadata": {
    "application/vnd.databricks.v1+cell": {
     "cellMetadata": {
      "byteLimit": 2048000,
      "rowLimit": 10000
     },
     "inputWidgets": {},
     "nuid": "98fe8e64-cdfd-445d-af3b-3dfd507a79ba",
     "showTitle": false,
     "tableResultSettingsMap": {},
     "title": ""
    }
   },
   "outputs": [],
   "source": [
    "\n",
    "save_table_as_image(warren_buffet_stocks_selection_df.toPandas(), 'warren_buffet')\n",
    "save_table_as_image(benjamin_graham_stocks_selection_df.toPandas(), 'benjamin_graham')"
   ]
  }
 ],
 "metadata": {
  "application/vnd.databricks.v1+notebook": {
   "computePreferences": null,
   "dashboards": [],
   "environmentMetadata": {
    "base_environment": "",
    "environment_version": "2"
   },
   "inputWidgetPreferences": null,
   "language": "python",
   "notebookMetadata": {
    "pythonIndentUnit": 4
   },
   "notebookName": "stock_evaluation_table",
   "widgets": {}
  },
  "language_info": {
   "name": "python"
  }
 },
 "nbformat": 4,
 "nbformat_minor": 0
}
