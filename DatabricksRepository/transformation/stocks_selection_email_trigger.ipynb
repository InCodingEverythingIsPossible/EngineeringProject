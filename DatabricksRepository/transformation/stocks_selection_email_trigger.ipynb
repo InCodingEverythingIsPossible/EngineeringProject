{
 "cells": [
  {
   "cell_type": "markdown",
   "metadata": {
    "application/vnd.databricks.v1+cell": {
     "cellMetadata": {
      "byteLimit": 2048000,
      "rowLimit": 10000
     },
     "inputWidgets": {},
     "nuid": "422176ee-c765-4b67-9498-5a5b89860b0f",
     "showTitle": false,
     "tableResultSettingsMap": {},
     "title": ""
    }
   },
   "source": [
    "# Send a trigger to Azure Logic Apps to initiate a workflow."
   ]
  },
  {
   "cell_type": "code",
   "execution_count": 0,
   "metadata": {
    "application/vnd.databricks.v1+cell": {
     "cellMetadata": {
      "byteLimit": 2048000,
      "rowLimit": 10000
     },
     "inputWidgets": {},
     "nuid": "cf7d9899-150e-45e3-b6e0-88d42d502c7b",
     "showTitle": false,
     "tableResultSettingsMap": {},
     "title": ""
    }
   },
   "outputs": [],
   "source": [
    "%run \"../utils/mount_configuration\""
   ]
  },
  {
   "cell_type": "code",
   "execution_count": 0,
   "metadata": {
    "application/vnd.databricks.v1+cell": {
     "cellMetadata": {
      "byteLimit": 2048000,
      "rowLimit": 10000
     },
     "inputWidgets": {},
     "nuid": "62ef596f-489d-4bb4-ad22-59e4322ccb89",
     "showTitle": false,
     "tableResultSettingsMap": {},
     "title": ""
    }
   },
   "outputs": [],
   "source": [
    "# Load evaluation date from 'tickers_quality_evaluation' task\n",
    "evaluation_date = dbutils.jobs.taskValues.get(taskKey=\"tickers_quality_evaluation\", key=\"evaluation_date\", debugValue=\"2025-03-17\")"
   ]
  },
  {
   "cell_type": "code",
   "execution_count": 0,
   "metadata": {
    "application/vnd.databricks.v1+cell": {
     "cellMetadata": {
      "byteLimit": 2048000,
      "rowLimit": 10000
     },
     "inputWidgets": {},
     "nuid": "1ff1cc7b-e3a4-4318-a926-7dc51a9b291b",
     "showTitle": false,
     "tableResultSettingsMap": {},
     "title": ""
    }
   },
   "outputs": [],
   "source": [
    "from pyspark.sql.functions import col\n",
    "\n",
    "warren_buffet_stocks_selection_df = spark.read \\\n",
    "    .format('delta') \\\n",
    "    .load(f'{presentation_folder_path}/warren_buffet_stocks_selection') \\\n",
    "    .filter(col('date') == evaluation_date)\n",
    "\n",
    "# display(warren_buffet_stocks_selection_df)"
   ]
  },
  {
   "cell_type": "code",
   "execution_count": 0,
   "metadata": {
    "application/vnd.databricks.v1+cell": {
     "cellMetadata": {
      "byteLimit": 2048000,
      "rowLimit": 10000
     },
     "inputWidgets": {},
     "nuid": "db6f7979-56d5-4d12-87c7-7b75c728628f",
     "showTitle": false,
     "tableResultSettingsMap": {},
     "title": ""
    }
   },
   "outputs": [],
   "source": [
    "benjamin_graham_stocks_selection_df = spark.read \\\n",
    "    .format('delta') \\\n",
    "    .load(f'{presentation_folder_path}/benjamin_graham_stocks_selection') \\\n",
    "    .filter(col('date') == evaluation_date)\n",
    "\n",
    "# display(benjamin_graham_stocks_selection_df)"
   ]
  },
  {
   "cell_type": "code",
   "execution_count": 0,
   "metadata": {
    "application/vnd.databricks.v1+cell": {
     "cellMetadata": {
      "byteLimit": 2048000,
      "rowLimit": 10000
     },
     "inputWidgets": {},
     "nuid": "53cf3c45-06ef-4ae1-8980-4a0a345efa5d",
     "showTitle": false,
     "tableResultSettingsMap": {},
     "title": ""
    }
   },
   "outputs": [],
   "source": [
    "def generate_html_table(df):\n",
    "    \n",
    "    # Converting DataFrame to a list of dictionaries\n",
    "    data_dict = df.toPandas().to_dict(orient=\"records\")\n",
    "\n",
    "    # Building HTML for the table\n",
    "    table_html = \"\"\"\n",
    "    <table border=\"1\" cellpadding=\"6\" cellspacing=\"0\" style=\"border-collapse: collapse; width: 100%; font-family: Arial, sans-serif;\">\n",
    "      <thead style=\"background-color: #f2f2f2;\">\n",
    "        <tr>\n",
    "    \"\"\"\n",
    "    # Getting column names from the DataFrame\n",
    "    columns = df.columns\n",
    "\n",
    "    # Adding headers\n",
    "    for col in columns:\n",
    "        table_html += f\"<th>{col}</th>\"\n",
    "\n",
    "    table_html += \"</tr></thead><tbody>\"\n",
    "\n",
    "    # Adding rows\n",
    "    for row in data_dict:\n",
    "        table_html += \"<tr>\"\n",
    "        for col in columns:\n",
    "            table_html += f\"<td>{row[col]}</td>\"\n",
    "        table_html += \"</tr>\"\n",
    "\n",
    "    table_html += \"</tbody></table>\"\n",
    "    \n",
    "    return table_html"
   ]
  },
  {
   "cell_type": "code",
   "execution_count": 0,
   "metadata": {
    "application/vnd.databricks.v1+cell": {
     "cellMetadata": {
      "byteLimit": 2048000,
      "rowLimit": 10000
     },
     "inputWidgets": {},
     "nuid": "40f308c3-20d9-4b0c-adc3-50c5a61b6741",
     "showTitle": false,
     "tableResultSettingsMap": {},
     "title": ""
    }
   },
   "outputs": [],
   "source": [
    "warren_buffet_table = generate_html_table(warren_buffet_stocks_selection_df)\n",
    "benjamin_graham_table = generate_html_table(benjamin_graham_stocks_selection_df) "
   ]
  },
  {
   "cell_type": "code",
   "execution_count": 0,
   "metadata": {
    "application/vnd.databricks.v1+cell": {
     "cellMetadata": {
      "byteLimit": 2048000,
      "rowLimit": 10000
     },
     "inputWidgets": {},
     "nuid": "372dee73-bd79-4fb5-aa1b-bd4fae90881d",
     "showTitle": false,
     "tableResultSettingsMap": {},
     "title": ""
    }
   },
   "outputs": [],
   "source": [
    "import requests\n",
    "\n",
    "# Define the endpoint URL for triggering the Azure Logic App via HTTP request.\n",
    "logic_app_url = \"https://prod-37.eastus.logic.azure.com:443/workflows/3fca59a482dd438db33c987486074907/triggers/When_a_HTTP_request_is_received/paths/invoke?api-version=2016-10-01&sp=%2Ftriggers%2FWhen_a_HTTP_request_is_received%2Frun&sv=1.0&sig=6rPB9fCSmcQJX9Vn8llFdUEmFnLuSPAaZKCxUCJ41GU\"\n",
    "\n",
    "\n",
    "# Prepare the JSON payload\n",
    "payload = {\n",
    "  \"folderPath\": \"gold/investment_recommendations/\",\n",
    "  \"evaluationDate\": f\"{evaluation_date}\",\n",
    "  \"email_content\": f\"\"\"\n",
    "          <html>\n",
    "          <body style=\"font-family: Arial, sans-serif; font-size: 14px; color: #333;\">\n",
    "            <p>Hej,</p>\n",
    "            <p>Poniżej znajdziesz zestawienie wyników analizy firm według kryteriów Warrena Buffetta:</p>\n",
    "            <h3 style=\"color:#2F5496;\">📊 Tabela: Analiza firm według wybranych wskaźników</h3>\n",
    "            {warren_buffet_table}\n",
    "            <br/>\n",
    "            <br/>\n",
    "            <p>Poniżej znajdziesz zestawienie wyników analizy firm według kryteriów Benjamin Grahama:</p>\n",
    "            <h3 style=\"color:#2F5496;\">📊 Tabela: Analiza firm według wybranych wskaźników</h3>\n",
    "            {benjamin_graham_table}\n",
    "            <br/>\n",
    "            <br/>\n",
    "            <p>Pozdrawiam,<br/>📡 System Analityczny</p>\n",
    "          </body>\n",
    "        </html>\n",
    "  \"\"\"\n",
    "}\n",
    "\n",
    "response = requests.post(logic_app_url, json=payload)\n",
    "\n",
    "print(f\"Status code: {response.status_code}\")"
   ]
  }
 ],
 "metadata": {
  "application/vnd.databricks.v1+notebook": {
   "computePreferences": null,
   "dashboards": [],
   "environmentMetadata": {
    "base_environment": "",
    "environment_version": "2"
   },
   "inputWidgetPreferences": null,
   "language": "python",
   "notebookMetadata": {
    "pythonIndentUnit": 4
   },
   "notebookName": "stocks_selection_email_trigger",
   "widgets": {}
  },
  "language_info": {
   "name": "python"
  }
 },
 "nbformat": 4,
 "nbformat_minor": 0
}
