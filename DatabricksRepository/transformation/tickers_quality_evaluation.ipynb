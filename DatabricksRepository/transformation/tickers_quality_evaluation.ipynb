{
 "cells": [
  {
   "cell_type": "markdown",
   "metadata": {
    "application/vnd.databricks.v1+cell": {
     "cellMetadata": {
      "byteLimit": 2048000,
      "rowLimit": 10000
     },
     "inputWidgets": {},
     "nuid": "eda0af75-aeaf-4a4a-b634-b4d72b1a9121",
     "showTitle": false,
     "tableResultSettingsMap": {},
     "title": ""
    }
   },
   "source": [
    "# Evaluate tickers based on financial and market indicators."
   ]
  },
  {
   "cell_type": "code",
   "execution_count": 0,
   "metadata": {
    "application/vnd.databricks.v1+cell": {
     "cellMetadata": {
      "byteLimit": 2048000,
      "rowLimit": 10000
     },
     "inputWidgets": {},
     "nuid": "08fa6662-5207-4626-8e61-644178a99c92",
     "showTitle": false,
     "tableResultSettingsMap": {},
     "title": ""
    }
   },
   "outputs": [],
   "source": [
    "%run \"../utils/mount_configuration\""
   ]
  },
  {
   "cell_type": "code",
   "execution_count": 0,
   "metadata": {
    "application/vnd.databricks.v1+cell": {
     "cellMetadata": {
      "byteLimit": 2048000,
      "rowLimit": 10000
     },
     "inputWidgets": {},
     "nuid": "b1a33935-37ae-4800-8ea7-e8d8823fce8b",
     "showTitle": false,
     "tableResultSettingsMap": {},
     "title": ""
    }
   },
   "outputs": [],
   "source": [
    "%run \"../utils/incremental_load\""
   ]
  },
  {
   "cell_type": "code",
   "execution_count": 0,
   "metadata": {
    "application/vnd.databricks.v1+cell": {
     "cellMetadata": {
      "byteLimit": 2048000,
      "rowLimit": 10000
     },
     "inputWidgets": {},
     "nuid": "7774a1aa-52b3-4f43-912d-59b6af0b84f6",
     "showTitle": false,
     "tableResultSettingsMap": {},
     "title": ""
    }
   },
   "outputs": [],
   "source": [
    "tickers_indicators_df = spark.read \\\n",
    "    .format('delta') \\\n",
    "    .load(f'{presentation_folder_path}/tickers_indicators')"
   ]
  },
  {
   "cell_type": "code",
   "execution_count": 0,
   "metadata": {
    "application/vnd.databricks.v1+cell": {
     "cellMetadata": {
      "byteLimit": 2048000,
      "rowLimit": 10000
     },
     "inputWidgets": {},
     "nuid": "0fd0c9ec-bd83-496f-bba9-242f40c26700",
     "showTitle": false,
     "tableResultSettingsMap": {},
     "title": ""
    }
   },
   "outputs": [],
   "source": [
    "from pyspark.sql.functions import max, date_format\n",
    "\n",
    "# Get the most recent available date\n",
    "latest_date = tickers_indicators_df \\\n",
    "  .select(date_format(max('date'), 'yyyy-MM-dd')).collect()[0][0]"
   ]
  },
  {
   "cell_type": "code",
   "execution_count": 0,
   "metadata": {
    "application/vnd.databricks.v1+cell": {
     "cellMetadata": {
      "byteLimit": 2048000,
      "rowLimit": 10000
     },
     "inputWidgets": {},
     "nuid": "73d09a5f-ec15-4950-9d12-e0760e38b258",
     "showTitle": false,
     "tableResultSettingsMap": {},
     "title": ""
    }
   },
   "outputs": [],
   "source": [
    "from pyspark.sql.functions import col, round\n",
    "\n",
    "# Filter tickers based on Warren Buffett's criteria\n",
    "warren_buffet_choice = tickers_indicators_df \\\n",
    "    .filter(\n",
    "        (col(\"date\") == latest_date) &  \n",
    "        (col(\"ROE\") > 0.2) &         \n",
    "        (col(\"net_profit_margin\") > 0.05) &  \n",
    "        (col(\"net_income_3_year_cagr_pct\") > 15) & \n",
    "        (col(\"debt_rate\") < 0.5) &   \n",
    "        (col(\"current_liquidity_rate\") > 2)) \\\n",
    "    .select(\n",
    "        \"ticker\",\n",
    "        \"name\",\n",
    "        round(col(\"ROE\") * 100, 2).alias(\"ROE\"),\n",
    "        round(col(\"net_profit_margin\") * 100, 2).alias(\"net_profit_margin\"),\n",
    "        round(col(\"net_income_3_year_cagr_pct\"), 2).alias(\"net_income_3_year_cagr_pct\"),\n",
    "        round(col(\"debt_rate\") * 100, 2).alias(\"debt_rate\"),\n",
    "        round(col(\"current_liquidity_rate\"), 2).alias(\"current_liquidity_rate\"),\n",
    "        round(col(\"market_cap\"), 2).alias(\"market_cap\"),\n",
    "        round(col(\"close_price\"), 2).alias(\"close_price\"),\n",
    "        \"date\"\n",
    "    )\n",
    "\n",
    "# display(warren_buffet_choice)\n"
   ]
  },
  {
   "cell_type": "code",
   "execution_count": 0,
   "metadata": {
    "application/vnd.databricks.v1+cell": {
     "cellMetadata": {
      "byteLimit": 2048000,
      "rowLimit": 10000
     },
     "inputWidgets": {},
     "nuid": "37fed5d4-598e-492c-8920-614544469839",
     "showTitle": false,
     "tableResultSettingsMap": {},
     "title": ""
    }
   },
   "outputs": [],
   "source": [
    "# Filter tickers based on Benjamin Graham's criteria\n",
    "benjamin_graham_choice = tickers_indicators_df \\\n",
    "    .filter(\n",
    "        (col(\"date\") == latest_date) &  \n",
    "        (col(\"P/E\") < 30.0) &          \n",
    "        (col(\"P/B\") < 5) &            \n",
    "        (col(\"debt_rate\") < 0.5) &      \n",
    "        (col(\"current_liquidity_rate\") > 1) & \n",
    "        (col(\"net_profit_margin\") > 0.1)) \\\n",
    "    .select(\n",
    "        \"ticker\",\n",
    "        \"name\",\n",
    "        round(col(\"P/E\"), 2).alias(\"P/E\"),\n",
    "        round(col(\"P/B\"), 2).alias(\"P/B\"),\n",
    "        round(col(\"debt_rate\") * 100, 2).alias(\"debt_rate\"),\n",
    "        round(col(\"current_liquidity_rate\"), 2).alias(\"current_liquidity_rate\"),\n",
    "        round(col(\"net_profit_margin\") * 100, 2).alias(\"net_profit_margin\"),\n",
    "        round(col(\"market_cap\"), 2).alias(\"market_cap\"),\n",
    "        round(col(\"close_price\"), 2).alias(\"close_price\"),\n",
    "        \"date\"\n",
    "    )\n",
    "\n",
    "# display(benjamin_graham_choice)"
   ]
  },
  {
   "cell_type": "code",
   "execution_count": 0,
   "metadata": {
    "application/vnd.databricks.v1+cell": {
     "cellMetadata": {
      "byteLimit": 2048000,
      "rowLimit": 10000
     },
     "inputWidgets": {},
     "nuid": "ca7d1d36-4da5-4127-9f8d-e5d519abed89",
     "showTitle": false,
     "tableResultSettingsMap": {},
     "title": ""
    }
   },
   "outputs": [],
   "source": [
    "mergeCondition = \"\"\"target.ticker = source.ticker AND \n",
    "                    target.date = source.date\"\"\""
   ]
  },
  {
   "cell_type": "code",
   "execution_count": 0,
   "metadata": {
    "application/vnd.databricks.v1+cell": {
     "cellMetadata": {
      "byteLimit": 2048000,
      "rowLimit": 10000
     },
     "inputWidgets": {},
     "nuid": "c4d4b02f-de0b-4683-af4e-bb363f2d2353",
     "showTitle": false,
     "tableResultSettingsMap": {},
     "title": ""
    }
   },
   "outputs": [],
   "source": [
    "incrementalLoadDelta(input_df=warren_buffet_choice, databaseName=\"engineering_presentation\", tableName=\"warren_buffet_stocks_selection\", \n",
    "                     folderPath=presentation_folder_path, partitionField=\"date\", mergeCondition=mergeCondition)"
   ]
  },
  {
   "cell_type": "code",
   "execution_count": 0,
   "metadata": {
    "application/vnd.databricks.v1+cell": {
     "cellMetadata": {
      "byteLimit": 2048000,
      "rowLimit": 10000
     },
     "inputWidgets": {},
     "nuid": "8fd04974-c04d-4edf-8043-94ddbb9b58c5",
     "showTitle": false,
     "tableResultSettingsMap": {},
     "title": ""
    }
   },
   "outputs": [],
   "source": [
    "incrementalLoadDelta(input_df=benjamin_graham_choice, databaseName=\"engineering_presentation\", tableName=\"benjamin_graham_stocks_selection\", \n",
    "                     folderPath=presentation_folder_path, partitionField=\"date\", mergeCondition=mergeCondition)"
   ]
  },
  {
   "cell_type": "code",
   "execution_count": 0,
   "metadata": {
    "application/vnd.databricks.v1+cell": {
     "cellMetadata": {
      "byteLimit": 2048000,
      "implicitDf": true,
      "rowLimit": 10000
     },
     "inputWidgets": {},
     "nuid": "05c1f268-8c59-4928-9287-63df0b9f447b",
     "showTitle": false,
     "tableResultSettingsMap": {},
     "title": ""
    }
   },
   "outputs": [],
   "source": [
    "%sql\n",
    "SELECT * FROM engineering_presentation.warren_buffet_stocks_selection"
   ]
  },
  {
   "cell_type": "code",
   "execution_count": 0,
   "metadata": {
    "application/vnd.databricks.v1+cell": {
     "cellMetadata": {
      "byteLimit": 2048000,
      "implicitDf": true,
      "rowLimit": 10000
     },
     "inputWidgets": {},
     "nuid": "28016090-4787-4d5a-9fc3-feb31e75f264",
     "showTitle": false,
     "tableResultSettingsMap": {},
     "title": ""
    }
   },
   "outputs": [],
   "source": [
    "%sql\n",
    "SELECT * FROM engineering_presentation.benjamin_graham_stocks_selection"
   ]
  },
  {
   "cell_type": "code",
   "execution_count": 0,
   "metadata": {
    "application/vnd.databricks.v1+cell": {
     "cellMetadata": {
      "byteLimit": 2048000,
      "rowLimit": 10000
     },
     "inputWidgets": {},
     "nuid": "02c14ca5-64e0-48ed-8fc6-876d9da552be",
     "showTitle": false,
     "tableResultSettingsMap": {},
     "title": ""
    }
   },
   "outputs": [],
   "source": [
    "# Set the latest evaluation date as a task value for use in subsequent tasks.\n",
    "dbutils.jobs.taskValues.set(key=\"evaluation_date\", value=latest_date)"
   ]
  }
 ],
 "metadata": {
  "application/vnd.databricks.v1+notebook": {
   "computePreferences": null,
   "dashboards": [],
   "environmentMetadata": {
    "base_environment": "",
    "environment_version": "2"
   },
   "inputWidgetPreferences": null,
   "language": "python",
   "notebookMetadata": {
    "mostRecentlyExecutedCommandWithImplicitDF": {
     "commandId": 6490709908473598,
     "dataframes": [
      "_sqldf"
     ]
    },
    "pythonIndentUnit": 4
   },
   "notebookName": "tickers_quality_evaluation",
   "widgets": {}
  },
  "language_info": {
   "name": "python"
  }
 },
 "nbformat": 4,
 "nbformat_minor": 0
}
