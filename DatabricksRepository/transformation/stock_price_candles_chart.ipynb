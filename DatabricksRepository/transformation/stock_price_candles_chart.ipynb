{
 "cells": [
  {
   "cell_type": "markdown",
   "metadata": {
    "application/vnd.databricks.v1+cell": {
     "cellMetadata": {
      "byteLimit": 2048000,
      "rowLimit": 10000
     },
     "inputWidgets": {},
     "nuid": "d388e8a6-d412-41c2-b096-c2a5bf925854",
     "showTitle": false,
     "tableResultSettingsMap": {},
     "title": ""
    }
   },
   "source": [
    "# Generate a candlestick charts"
   ]
  },
  {
   "cell_type": "code",
   "execution_count": 0,
   "metadata": {
    "application/vnd.databricks.v1+cell": {
     "cellMetadata": {
      "byteLimit": 2048000,
      "rowLimit": 10000
     },
     "inputWidgets": {},
     "nuid": "3af7c678-91b1-4bcb-9290-7cccdb0d4f1a",
     "showTitle": false,
     "tableResultSettingsMap": {},
     "title": ""
    }
   },
   "outputs": [],
   "source": [
    "# Install Kaleido for saving interactive plots as static images.\n",
    "!pip install kaleido"
   ]
  },
  {
   "cell_type": "code",
   "execution_count": 0,
   "metadata": {
    "application/vnd.databricks.v1+cell": {
     "cellMetadata": {
      "byteLimit": 2048000,
      "rowLimit": 10000
     },
     "inputWidgets": {},
     "nuid": "c340c715-644d-433d-a7b3-0e7093073981",
     "showTitle": false,
     "tableResultSettingsMap": {},
     "title": ""
    }
   },
   "outputs": [],
   "source": [
    "%run \"../utils/mount_configuration\""
   ]
  },
  {
   "cell_type": "code",
   "execution_count": 0,
   "metadata": {
    "application/vnd.databricks.v1+cell": {
     "cellMetadata": {
      "byteLimit": 2048000,
      "rowLimit": 10000
     },
     "inputWidgets": {},
     "nuid": "d6bd8ff3-c1da-478a-b3d0-b26f88b8f16a",
     "showTitle": false,
     "tableResultSettingsMap": {},
     "title": ""
    }
   },
   "outputs": [],
   "source": [
    "# Load evaluation date from 'tickers_quality_evaluation' task\n",
    "evaluation_date = dbutils.jobs.taskValues.get(taskKey=\"tickers_quality_evaluation\", key=\"evaluation_date\", debugValue=\"2025-03-17\")"
   ]
  },
  {
   "cell_type": "code",
   "execution_count": 0,
   "metadata": {
    "application/vnd.databricks.v1+cell": {
     "cellMetadata": {
      "byteLimit": 2048000,
      "rowLimit": 10000
     },
     "inputWidgets": {},
     "nuid": "4de03f3c-1695-449b-bdcd-90d2d0349529",
     "showTitle": false,
     "tableResultSettingsMap": {},
     "title": ""
    }
   },
   "outputs": [],
   "source": [
    "from pyspark.sql.functions import col\n",
    "\n",
    "warren_buffet_stocks_selection_df = spark.read \\\n",
    "    .format('delta') \\\n",
    "    .load(f'{presentation_folder_path}/warren_buffet_stocks_selection') \\\n",
    "    .filter(col('date') == evaluation_date) \\\n",
    "    .select('ticker') \n",
    "                                              \n",
    "# display(warren_buffet_stocks_selection_df)"
   ]
  },
  {
   "cell_type": "code",
   "execution_count": 0,
   "metadata": {
    "application/vnd.databricks.v1+cell": {
     "cellMetadata": {
      "byteLimit": 2048000,
      "rowLimit": 10000
     },
     "inputWidgets": {},
     "nuid": "045c9841-d953-46c8-8f0a-80c9046f79e8",
     "showTitle": false,
     "tableResultSettingsMap": {},
     "title": ""
    }
   },
   "outputs": [],
   "source": [
    "benjamin_graham_stocks_selection_df = spark.read \\\n",
    "    .format('delta') \\\n",
    "    .load(f'{presentation_folder_path}/benjamin_graham_stocks_selection') \\\n",
    "    .filter(col('date') == evaluation_date) \\\n",
    "    .select('ticker') \n",
    "\n",
    "# display(benjamin_graham_stocks_selection_df)"
   ]
  },
  {
   "cell_type": "code",
   "execution_count": 0,
   "metadata": {
    "application/vnd.databricks.v1+cell": {
     "cellMetadata": {
      "byteLimit": 2048000,
      "rowLimit": 10000
     },
     "inputWidgets": {},
     "nuid": "2beb3ad2-c51b-43dd-9312-0aed2bf55440",
     "showTitle": false,
     "tableResultSettingsMap": {},
     "title": ""
    }
   },
   "outputs": [],
   "source": [
    "merged_stocks_selection_df = warren_buffet_stocks_selection_df \\\n",
    "    .union(benjamin_graham_stocks_selection_df)\n",
    "\n",
    "# display(merged_stocks_selection_df)"
   ]
  },
  {
   "cell_type": "code",
   "execution_count": 0,
   "metadata": {
    "application/vnd.databricks.v1+cell": {
     "cellMetadata": {
      "byteLimit": 2048000,
      "rowLimit": 10000
     },
     "inputWidgets": {},
     "nuid": "e1c1eaed-3f7d-4f27-946e-e9067a368cdf",
     "showTitle": false,
     "tableResultSettingsMap": {},
     "title": ""
    }
   },
   "outputs": [],
   "source": [
    "from pyspark.sql.functions import col\n",
    "\n",
    "# Load stock price data for selected tickers and filter based on the tickers list.\n",
    "tickers_list = [row.ticker for row in merged_stocks_selection_df.select(\"ticker\").distinct().collect()]\n",
    "\n",
    "tickets_price_df = spark.read.format(\"delta\") \\\n",
    "                            .load(f\"{processed_folder_path}/tickers_price\") \\\n",
    "                            .filter(col(\"ticker\").isin(tickers_list))\n",
    "\n",
    "# display(tickets_price_df)"
   ]
  },
  {
   "cell_type": "code",
   "execution_count": 0,
   "metadata": {
    "application/vnd.databricks.v1+cell": {
     "cellMetadata": {
      "byteLimit": 2048000,
      "rowLimit": 10000
     },
     "inputWidgets": {},
     "nuid": "601a6fff-7cc0-4667-b474-fbfecde112e0",
     "showTitle": false,
     "tableResultSettingsMap": {},
     "title": ""
    }
   },
   "outputs": [],
   "source": [
    "from datetime import datetime\n",
    "import pandas as pd\n",
    "import plotly.graph_objects as go\n",
    "\n",
    "# Creation directory in which will be stored all files for each evalution date \n",
    "directory = f'{presentation_folder_path}/investment_recommendations/{evaluation_date}'\n",
    "dbutils.fs.mkdirs(directory)\n",
    "\n",
    "# Convert PySpark DataFrame to Pandas\n",
    "df_pandas = tickets_price_df.toPandas()\n",
    "\n",
    "# Convert 'date' column to datetime format\n",
    "df_pandas['date'] = pd.to_datetime(df_pandas['date'])\n",
    "\n",
    "# Iterate over unique tickers\n",
    "for ticker_symbol in tickers_list:\n",
    "    # Filter data for the given ticker\n",
    "    df_filtered = df_pandas[(df_pandas[\"ticker\"] == ticker_symbol) & (df_pandas[\"date\"] >= datetime.today().replace(year=datetime.today().year - 1))]\n",
    "    \n",
    "    # Sort by date\n",
    "    df_filtered = df_filtered.sort_values(\"date\")\n",
    "    \n",
    "    # Create candlestick chart\n",
    "    fig = go.Figure(data=[go.Candlestick(\n",
    "        x=df_filtered[\"date\"],\n",
    "        open=df_filtered[\"open_price\"],\n",
    "        high=df_filtered[\"highest_price\"],\n",
    "        low=df_filtered[\"lowest_price\"],\n",
    "        close=df_filtered[\"close_price\"],\n",
    "        increasing_line_color='red', \n",
    "        decreasing_line_color='green'\n",
    "    )])\n",
    "\n",
    "    # Configure chart\n",
    "    fig.update_layout(\n",
    "        title=f'Candlestick Chart for {ticker_symbol}',\n",
    "        xaxis_title='Date',\n",
    "        yaxis_title='Price',\n",
    "        xaxis_rangeslider_visible=False,\n",
    "        template=\"plotly_dark\"\n",
    "    )\n",
    "\n",
    "    #Define filename and whole filepath for the chart\n",
    "    plot_filename = f'{ticker_symbol}_candlestick_chart.png'\n",
    "    plot_filepath = f'/dbfs/{directory}/{plot_filename}'\n",
    "\n",
    "    fig.write_image(plot_filepath)\n",
    "\n",
    "    # Display chart\n",
    "    fig.show()"
   ]
  }
 ],
 "metadata": {
  "application/vnd.databricks.v1+notebook": {
   "computePreferences": null,
   "dashboards": [],
   "environmentMetadata": {
    "base_environment": "",
    "environment_version": "2"
   },
   "inputWidgetPreferences": null,
   "language": "python",
   "notebookMetadata": {
    "mostRecentlyExecutedCommandWithImplicitDF": {
     "commandId": -1,
     "dataframes": [
      "_sqldf"
     ]
    },
    "pythonIndentUnit": 4
   },
   "notebookName": "stock_price_candles_chart",
   "widgets": {}
  },
  "language_info": {
   "name": "python"
  }
 },
 "nbformat": 4,
 "nbformat_minor": 0
}
