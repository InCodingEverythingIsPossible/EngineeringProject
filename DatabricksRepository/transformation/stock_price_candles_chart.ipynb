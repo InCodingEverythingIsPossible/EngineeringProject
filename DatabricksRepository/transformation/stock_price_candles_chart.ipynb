{
 "cells": [
  {
   "cell_type": "code",
   "execution_count": 0,
   "metadata": {
    "application/vnd.databricks.v1+cell": {
     "cellMetadata": {
      "byteLimit": 2048000,
      "rowLimit": 10000
     },
     "inputWidgets": {},
     "nuid": "c340c715-644d-433d-a7b3-0e7093073981",
     "showTitle": false,
     "tableResultSettingsMap": {},
     "title": ""
    }
   },
   "outputs": [],
   "source": [
    "%run \"../utils/mount_configuration\""
   ]
  },
  {
   "cell_type": "code",
   "execution_count": 0,
   "metadata": {
    "application/vnd.databricks.v1+cell": {
     "cellMetadata": {
      "byteLimit": 2048000,
      "rowLimit": 10000
     },
     "inputWidgets": {},
     "nuid": "59fc0f95-1e19-4c31-a8a6-829e81b95b0e",
     "showTitle": false,
     "tableResultSettingsMap": {},
     "title": ""
    }
   },
   "outputs": [],
   "source": [
    "tickets_price_df = spark.read.format(\"delta\") \\\n",
    "                            .load(f\"{processed_folder_path}/tickers_price\")"
   ]
  },
  {
   "cell_type": "code",
   "execution_count": 0,
   "metadata": {
    "application/vnd.databricks.v1+cell": {
     "cellMetadata": {
      "byteLimit": 2048000,
      "rowLimit": 10000
     },
     "inputWidgets": {},
     "nuid": "aef3ce62-d199-42eb-b92b-50cdaae46d76",
     "showTitle": false,
     "tableResultSettingsMap": {},
     "title": ""
    }
   },
   "outputs": [],
   "source": [
    "display(tickets_price_df)"
   ]
  },
  {
   "cell_type": "code",
   "execution_count": 0,
   "metadata": {
    "application/vnd.databricks.v1+cell": {
     "cellMetadata": {
      "byteLimit": 2048000,
      "rowLimit": 10000
     },
     "inputWidgets": {},
     "nuid": "b514d662-e64d-4fae-b9f3-9e414bd8309f",
     "showTitle": false,
     "tableResultSettingsMap": {},
     "title": ""
    }
   },
   "outputs": [],
   "source": [
    "display(tickets_price_df.printSchema())"
   ]
  },
  {
   "cell_type": "code",
   "execution_count": 0,
   "metadata": {
    "application/vnd.databricks.v1+cell": {
     "cellMetadata": {
      "byteLimit": 2048000,
      "rowLimit": 10000
     },
     "inputWidgets": {},
     "nuid": "601a6fff-7cc0-4667-b474-fbfecde112e0",
     "showTitle": false,
     "tableResultSettingsMap": {},
     "title": ""
    }
   },
   "outputs": [],
   "source": [
    "from datetime import datetime\n",
    "import pandas as pd\n",
    "import plotly.graph_objects as go\n",
    "\n",
    "# Convert PySpark DataFrame to Pandas\n",
    "df_pandas = tickets_price_df.toPandas()\n",
    "\n",
    "# Convert 'date' column to datetime format\n",
    "df_pandas['date'] = pd.to_datetime(df_pandas['date'])\n",
    "\n",
    "# Filter for a specific ticker\n",
    "ticker_symbol = \"GOOG\"\n",
    "df_filtered = df_pandas[(df_pandas[\"ticker\"] == ticker_symbol) & (df_pandas[\"date\"] >= datetime.today().replace(year=datetime.today().year - 1))]\n",
    "\n",
    "# Sort by date\n",
    "df_filtered = df_filtered.sort_values(\"date\")\n",
    "\n",
    "# Create candlestick chart with correct colors\n",
    "fig = go.Figure(data=[go.Candlestick(\n",
    "    x=df_filtered[\"date\"],\n",
    "    open=df_filtered[\"open_price\"],\n",
    "    high=df_filtered[\"highest_price\"],\n",
    "    low=df_filtered[\"lowest_price\"],\n",
    "    close=df_filtered[\"close_price\"],\n",
    "    increasing_line_color='red', \n",
    "    decreasing_line_color='green'  \n",
    ")])\n",
    "\n",
    "# Configure the chart\n",
    "fig.update_layout(\n",
    "    title=f'Candlestick Chart for {ticker_symbol}',\n",
    "    xaxis_title='Date',\n",
    "    yaxis_title='Price',\n",
    "    xaxis_rangeslider_visible=False,\n",
    "    template=\"plotly_dark\"\n",
    ")\n",
    "\n",
    "# Display the chart\n",
    "fig.show()"
   ]
  }
 ],
 "metadata": {
  "application/vnd.databricks.v1+notebook": {
   "computePreferences": null,
   "dashboards": [],
   "environmentMetadata": {
    "base_environment": "",
    "environment_version": "2"
   },
   "inputWidgetPreferences": null,
   "language": "python",
   "notebookMetadata": {
    "pythonIndentUnit": 4
   },
   "notebookName": "stock_price_candles_chart",
   "widgets": {}
  },
  "language_info": {
   "name": "python"
  }
 },
 "nbformat": 4,
 "nbformat_minor": 0
}
