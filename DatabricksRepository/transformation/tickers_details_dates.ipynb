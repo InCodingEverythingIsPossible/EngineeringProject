{
 "cells": [
  {
   "cell_type": "markdown",
   "metadata": {
    "application/vnd.databricks.v1+cell": {
     "cellMetadata": {
      "byteLimit": 2048000,
      "rowLimit": 10000
     },
     "inputWidgets": {},
     "nuid": "402a5d91-021e-4221-995c-77bcfa7eba78",
     "showTitle": false,
     "tableResultSettingsMap": {},
     "title": ""
    }
   },
   "source": [
    "# Identify first available weekdays and save them as JSON."
   ]
  },
  {
   "cell_type": "code",
   "execution_count": 0,
   "metadata": {
    "application/vnd.databricks.v1+cell": {
     "cellMetadata": {
      "byteLimit": 2048000,
      "rowLimit": 10000
     },
     "inputWidgets": {},
     "nuid": "ef86f72f-7639-477d-bec9-c6d03de29bb7",
     "showTitle": false,
     "tableResultSettingsMap": {},
     "title": ""
    }
   },
   "outputs": [],
   "source": [
    "%run \"../utils/mount_configuration\""
   ]
  },
  {
   "cell_type": "code",
   "execution_count": 0,
   "metadata": {
    "application/vnd.databricks.v1+cell": {
     "cellMetadata": {
      "byteLimit": 2048000,
      "rowLimit": 10000
     },
     "inputWidgets": {},
     "nuid": "d463d188-dc1b-4ad0-bb34-038670c31054",
     "showTitle": false,
     "tableResultSettingsMap": {},
     "title": ""
    }
   },
   "outputs": [],
   "source": [
    "tickets_price_df = spark.read \\\n",
    "    .format(\"delta\") \\\n",
    "    .load(f\"{processed_folder_path}/tickers_price\")"
   ]
  },
  {
   "cell_type": "code",
   "execution_count": 0,
   "metadata": {
    "application/vnd.databricks.v1+cell": {
     "cellMetadata": {
      "byteLimit": 2048000,
      "rowLimit": 10000
     },
     "inputWidgets": {},
     "nuid": "162fe2c4-25c2-4c84-84d4-17731a51aeef",
     "showTitle": false,
     "tableResultSettingsMap": {},
     "title": ""
    }
   },
   "outputs": [],
   "source": [
    "from pyspark.sql.functions import date_format, year, weekofyear, when, col, row_number\n",
    "from pyspark.sql.window import Window\n",
    "\n",
    "# Creating 'priority' column (Monday -> 1, Tuesday -> 2, etc.)\n",
    "tickets_price_df = tickets_price_df \\\n",
    "    .withColumn(\"day_of_week\", date_format(\"date\", \"E\")) \\\n",
    "    .withColumn(\"year\", year(\"date\")) \\\n",
    "    .withColumn(\"week_of_year\", weekofyear(\"date\")) \\\n",
    "    .withColumn(\"priority\",\n",
    "        when(col(\"day_of_week\") == \"Mon\", 1)\n",
    "        .when(col(\"day_of_week\") == \"Tue\", 2)\n",
    "        .when(col(\"day_of_week\") == \"Wed\", 3)\n",
    "        .when(col(\"day_of_week\") == \"Thu\", 4)\n",
    "        .when(col(\"day_of_week\") == \"Fri\", 5)\n",
    "        .when(col(\"day_of_week\") == \"Sat\", 6)\n",
    "        .when(col(\"day_of_week\") == \"Sun\", 7))\n",
    "\n",
    "window_spec = Window.partitionBy(\"year\", \"week_of_year\").orderBy(\"priority\", \"date\")\n",
    "\n",
    "# Assign rank to each row per week and select the first available trading day.\n",
    "final_result = tickets_price_df \\\n",
    "    .withColumn(\"rank\", row_number().over(window_spec)) \\\n",
    "    .filter(col(\"rank\") == 1) \\\n",
    "    .select(\"year\", \"week_of_year\", \"date\")\n",
    "\n",
    "# display(final_result)"
   ]
  },
  {
   "cell_type": "code",
   "execution_count": 0,
   "metadata": {
    "application/vnd.databricks.v1+cell": {
     "cellMetadata": {
      "byteLimit": 2048000,
      "rowLimit": 10000
     },
     "inputWidgets": {},
     "nuid": "6d16e4be-12cc-4ef8-8e72-a4331842b1dc",
     "showTitle": false,
     "tableResultSettingsMap": {},
     "title": ""
    }
   },
   "outputs": [],
   "source": [
    "final_result.write \\\n",
    "    .mode(\"overwrite\") \\\n",
    "    .format(\"json\") \\\n",
    "    .saveAsTable(\"engineering_presentation.ticker_details_dates\")"
   ]
  },
  {
   "cell_type": "code",
   "execution_count": 0,
   "metadata": {
    "application/vnd.databricks.v1+cell": {
     "cellMetadata": {
      "byteLimit": 2048000,
      "implicitDf": true,
      "rowLimit": 10000
     },
     "inputWidgets": {},
     "nuid": "a29239ad-c227-4190-8a73-c8d48dfc3588",
     "showTitle": false,
     "tableResultSettingsMap": {},
     "title": ""
    }
   },
   "outputs": [],
   "source": [
    "%sql\n",
    "SELECT * FROM engineering_presentation.ticker_details_dates;"
   ]
  }
 ],
 "metadata": {
  "application/vnd.databricks.v1+notebook": {
   "computePreferences": null,
   "dashboards": [],
   "environmentMetadata": {
    "base_environment": "",
    "environment_version": "2"
   },
   "inputWidgetPreferences": null,
   "language": "python",
   "notebookMetadata": {
    "mostRecentlyExecutedCommandWithImplicitDF": {
     "commandId": 3220335461120236,
     "dataframes": [
      "_sqldf"
     ]
    },
    "pythonIndentUnit": 4
   },
   "notebookName": "tickers_details_dates",
   "widgets": {}
  },
  "language_info": {
   "name": "python"
  }
 },
 "nbformat": 4,
 "nbformat_minor": 0
}
