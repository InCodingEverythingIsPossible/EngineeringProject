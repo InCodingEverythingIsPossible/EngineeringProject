{
 "cells": [
  {
   "cell_type": "code",
   "execution_count": 0,
   "metadata": {
    "application/vnd.databricks.v1+cell": {
     "cellMetadata": {
      "byteLimit": 2048000,
      "rowLimit": 10000
     },
     "inputWidgets": {},
     "nuid": "ef86f72f-7639-477d-bec9-c6d03de29bb7",
     "showTitle": false,
     "tableResultSettingsMap": {},
     "title": ""
    }
   },
   "outputs": [],
   "source": [
    "%run \"../utils/mount_configuration\""
   ]
  },
  {
   "cell_type": "code",
   "execution_count": 0,
   "metadata": {
    "application/vnd.databricks.v1+cell": {
     "cellMetadata": {
      "byteLimit": 2048000,
      "rowLimit": 10000
     },
     "inputWidgets": {},
     "nuid": "d463d188-dc1b-4ad0-bb34-038670c31054",
     "showTitle": false,
     "tableResultSettingsMap": {},
     "title": ""
    }
   },
   "outputs": [],
   "source": [
    "tickets_price_df = spark.read.format(\"delta\") \\\n",
    "                            .load(f\"{processed_folder_path}/tickers_price\")"
   ]
  },
  {
   "cell_type": "code",
   "execution_count": 0,
   "metadata": {
    "application/vnd.databricks.v1+cell": {
     "cellMetadata": {
      "byteLimit": 2048000,
      "rowLimit": 10000
     },
     "inputWidgets": {},
     "nuid": "c2511637-f252-40e4-8d24-75292db5be31",
     "showTitle": false,
     "tableResultSettingsMap": {},
     "title": ""
    }
   },
   "outputs": [],
   "source": [
    "display(tickets_price_df)"
   ]
  },
  {
   "cell_type": "code",
   "execution_count": 0,
   "metadata": {
    "application/vnd.databricks.v1+cell": {
     "cellMetadata": {
      "byteLimit": 2048000,
      "rowLimit": 10000
     },
     "inputWidgets": {},
     "nuid": "162fe2c4-25c2-4c84-84d4-17731a51aeef",
     "showTitle": false,
     "tableResultSettingsMap": {},
     "title": ""
    }
   },
   "outputs": [],
   "source": [
    "from pyspark.sql import functions as F\n",
    "from pyspark.sql.window import Window\n",
    "\n",
    "# 1. Adding 'day_of_week' and 'year' columns\n",
    "tickets_price_df = tickets_price_df.withColumn(\"day_of_week\", F.date_format(\"date\", \"E\")) \\\n",
    "                                   .withColumn(\"year\", F.year(\"date\")) \\\n",
    "                                   .withColumn(\"week_of_year\", F.weekofyear(\"date\"))\n",
    "\n",
    "# 2. Creating 'priority' column (Monday -> 1, Tuesday -> 2, etc.)\n",
    "tickets_price_df = tickets_price_df.withColumn(\n",
    "    \"priority\",\n",
    "    F.when(F.col(\"day_of_week\") == \"Mon\", 1)\n",
    "     .when(F.col(\"day_of_week\") == \"Tue\", 2)\n",
    "     .when(F.col(\"day_of_week\") == \"Wed\", 3)\n",
    "     .when(F.col(\"day_of_week\") == \"Thu\", 4)\n",
    "     .when(F.col(\"day_of_week\") == \"Fri\", 5)\n",
    "     .when(F.col(\"day_of_week\") == \"Sat\", 6)\n",
    "     .when(F.col(\"day_of_week\") == \"Sun\", 7)\n",
    ")\n",
    "\n",
    "# 3. Creating a window for sorting within combinations of 'year' and 'week_of_year'\n",
    "window_spec = Window.partitionBy(\"year\", \"week_of_year\").orderBy(\"priority\", \"date\")\n",
    "\n",
    "# 4. Assigning rank for each row within each week\n",
    "tickets_price_df = tickets_price_df.withColumn(\"rank\", F.row_number().over(window_spec))\n",
    "\n",
    "# 5. Filtering to keep only the earliest day in each week (rank = 1)\n",
    "result_df = tickets_price_df.filter(F.col(\"rank\") == 1)\n",
    "\n",
    "# 6. Selecting only 'year', 'week_of_year', 'date' columns\n",
    "final_result = result_df.select(\"year\", \"week_of_year\", \"date\")\n",
    "\n",
    "# Displaying the result\n",
    "display(final_result)"
   ]
  },
  {
   "cell_type": "code",
   "execution_count": 0,
   "metadata": {
    "application/vnd.databricks.v1+cell": {
     "cellMetadata": {
      "byteLimit": 2048000,
      "implicitDf": true,
      "rowLimit": 10000
     },
     "inputWidgets": {},
     "nuid": "2827374b-6b10-4b96-9ac2-54e27b5cbf3e",
     "showTitle": false,
     "tableResultSettingsMap": {},
     "title": ""
    }
   },
   "outputs": [],
   "source": []
  },
  {
   "cell_type": "code",
   "execution_count": 0,
   "metadata": {
    "application/vnd.databricks.v1+cell": {
     "cellMetadata": {
      "byteLimit": 2048000,
      "rowLimit": 10000
     },
     "inputWidgets": {},
     "nuid": "6d16e4be-12cc-4ef8-8e72-a4331842b1dc",
     "showTitle": false,
     "tableResultSettingsMap": {},
     "title": ""
    }
   },
   "outputs": [],
   "source": [
    "final_result.write.mode(\"overwrite\") \\\n",
    "                    .format(\"json\") \\\n",
    "                    .saveAsTable(\"engineering_presentation.ticker_details_dates\")"
   ]
  },
  {
   "cell_type": "code",
   "execution_count": 0,
   "metadata": {
    "application/vnd.databricks.v1+cell": {
     "cellMetadata": {
      "byteLimit": 2048000,
      "implicitDf": true,
      "rowLimit": 10000
     },
     "inputWidgets": {},
     "nuid": "a29239ad-c227-4190-8a73-c8d48dfc3588",
     "showTitle": false,
     "tableResultSettingsMap": {},
     "title": ""
    }
   },
   "outputs": [],
   "source": [
    "%sql\n",
    "SELECT * FROM engineering_presentation.ticker_details_dates;"
   ]
  }
 ],
 "metadata": {
  "application/vnd.databricks.v1+notebook": {
   "computePreferences": null,
   "dashboards": [],
   "environmentMetadata": {
    "base_environment": "",
    "environment_version": "2"
   },
   "inputWidgetPreferences": null,
   "language": "python",
   "notebookMetadata": {
    "mostRecentlyExecutedCommandWithImplicitDF": {
     "commandId": 3220335461120236,
     "dataframes": [
      "_sqldf"
     ]
    },
    "pythonIndentUnit": 4
   },
   "notebookName": "tickers_details_dates",
   "widgets": {}
  },
  "language_info": {
   "name": "python"
  }
 },
 "nbformat": 4,
 "nbformat_minor": 0
}
