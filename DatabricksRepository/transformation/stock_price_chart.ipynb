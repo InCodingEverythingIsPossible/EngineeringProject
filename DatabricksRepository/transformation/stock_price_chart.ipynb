{
 "cells": [
  {
   "cell_type": "code",
   "execution_count": 0,
   "metadata": {
    "application/vnd.databricks.v1+cell": {
     "cellMetadata": {
      "byteLimit": 2048000,
      "rowLimit": 10000
     },
     "inputWidgets": {},
     "nuid": "babcc2e7-fe02-4658-b37b-3890e5113fd0",
     "showTitle": false,
     "tableResultSettingsMap": {},
     "title": ""
    }
   },
   "outputs": [],
   "source": [
    "%run \"../utils/mount_configuration\""
   ]
  },
  {
   "cell_type": "code",
   "execution_count": 0,
   "metadata": {
    "application/vnd.databricks.v1+cell": {
     "cellMetadata": {
      "byteLimit": 2048000,
      "rowLimit": 10000
     },
     "inputWidgets": {},
     "nuid": "f8497c1f-2204-4440-8d11-5c5b72d5336e",
     "showTitle": false,
     "tableResultSettingsMap": {},
     "title": ""
    }
   },
   "outputs": [],
   "source": [
    "tickets_price_df = spark.read.format(\"delta\") \\\n",
    "                            .load(f\"{processed_folder_path}/tickers_price\")"
   ]
  },
  {
   "cell_type": "code",
   "execution_count": 0,
   "metadata": {
    "application/vnd.databricks.v1+cell": {
     "cellMetadata": {
      "byteLimit": 2048000,
      "rowLimit": 10000
     },
     "inputWidgets": {},
     "nuid": "0a6e1a67-9a2d-4882-9e21-63afe3e8138c",
     "showTitle": false,
     "tableResultSettingsMap": {},
     "title": ""
    }
   },
   "outputs": [],
   "source": [
    "import pandas as pd\n",
    "import matplotlib.pyplot as plt\n",
    "import seaborn as sns\n",
    "\n",
    "pdf = tickets_price_df.toPandas()\n",
    "\n",
    "# Convert date column to datetime format\n",
    "pdf['date'] = pd.to_datetime(pdf['date'])\n",
    "\n",
    "ticker_to_plot = 'GOOG' \n",
    "\n",
    "# Filter data for the selected ticker\n",
    "pdf_ticker = pdf[pdf['ticker'] == ticker_to_plot]\n",
    "\n",
    "sns.set(style=\"whitegrid\")\n",
    "\n",
    "# Create plot\n",
    "plt.figure(figsize=(14, 8))\n",
    "\n",
    "# Plot for the selected ticker\n",
    "plt.plot(pdf_ticker['date'], pdf_ticker['close_price'], label=ticker_to_plot, linewidth=2, color='#00BFFF')\n",
    "\n",
    "plt.xlabel(\"Date\", fontsize=14)\n",
    "plt.ylabel(\"Price\", fontsize=14)\n",
    "plt.title(f\"Stock Price for {ticker_to_plot} Over Time\", fontsize=16)\n",
    "plt.legend(title=\"Ticker\", title_fontsize='13', fontsize='11')\n",
    "plt.xticks(rotation=45)\n",
    "plt.tight_layout()\n",
    "plt.show()"
   ]
  }
 ],
 "metadata": {
  "application/vnd.databricks.v1+notebook": {
   "computePreferences": null,
   "dashboards": [],
   "environmentMetadata": {
    "base_environment": "",
    "environment_version": "2"
   },
   "inputWidgetPreferences": null,
   "language": "python",
   "notebookMetadata": {
    "pythonIndentUnit": 4
   },
   "notebookName": "stock_price_chart",
   "widgets": {}
  },
  "language_info": {
   "name": "python"
  }
 },
 "nbformat": 4,
 "nbformat_minor": 0
}
