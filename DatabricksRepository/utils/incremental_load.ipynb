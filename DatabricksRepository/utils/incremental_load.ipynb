{
 "cells": [
  {
   "cell_type": "markdown",
   "metadata": {
    "application/vnd.databricks.v1+cell": {
     "cellMetadata": {
      "byteLimit": 2048000,
      "rowLimit": 10000
     },
     "inputWidgets": {},
     "nuid": "247cb6dc-1f10-44eb-bdb8-a476c22f1d12",
     "showTitle": false,
     "tableResultSettingsMap": {},
     "title": ""
    }
   },
   "source": [
    "### Dealing with incremental load"
   ]
  },
  {
   "cell_type": "code",
   "execution_count": 0,
   "metadata": {
    "application/vnd.databricks.v1+cell": {
     "cellMetadata": {
      "byteLimit": 2048000,
      "rowLimit": 10000
     },
     "inputWidgets": {},
     "nuid": "6d82b0e8-e0d7-43f0-8b32-a55787e92f80",
     "showTitle": false,
     "tableResultSettingsMap": {},
     "title": ""
    }
   },
   "outputs": [],
   "source": [
    "from pyspark.sql import DataFrame\n",
    "from delta.tables import DeltaTable"
   ]
  },
  {
   "cell_type": "code",
   "execution_count": 0,
   "metadata": {
    "application/vnd.databricks.v1+cell": {
     "cellMetadata": {
      "byteLimit": 2048000,
      "rowLimit": 10000
     },
     "inputWidgets": {},
     "nuid": "8e986acf-19df-44ff-a6a8-2ba48d7c06c7",
     "showTitle": false,
     "tableResultSettingsMap": {},
     "title": ""
    }
   },
   "outputs": [],
   "source": [
    "#The function deals with loading data incrementally on parquet files\n",
    "\n",
    "def incrementalLoad(input_df: DataFrame, databaseName: str, tableName: str, partitionField: str):\n",
    "\n",
    "    #In this mode, Spark deletes and overwrites all partitions that are specified by the input\n",
    "    spark.conf.set(\"spark.sql.sources.partitionOverwriteMode\", \"dynamic\")\n",
    "\n",
    "    #Overwrite partition specified by the input (last column in dataframe)\n",
    "    if (spark._jsparkSession.catalog().tableExists(f\"{databaseName}.{tableName}\")):\n",
    "        input_df.write.mode(\"overwrite\") \\\n",
    "                      .insertInto(f\"{databaseName}.{tableName}\")\n",
    "\n",
    "    #Create table and insert first data with partitioning by specified field\n",
    "    else:\n",
    "        input_df.write.mode(\"overwrite\") \\\n",
    "                      .partitionBy(partitionField) \\\n",
    "                      .format(\"parquet\") \\\n",
    "                      .saveAsTable(f\"{databaseName}.{tableName}\")"
   ]
  },
  {
   "cell_type": "code",
   "execution_count": 0,
   "metadata": {
    "application/vnd.databricks.v1+cell": {
     "cellMetadata": {
      "byteLimit": 2048000,
      "rowLimit": 10000
     },
     "inputWidgets": {},
     "nuid": "bcebc83c-5284-4792-a493-57b6916ebc9d",
     "showTitle": false,
     "tableResultSettingsMap": {},
     "title": ""
    }
   },
   "outputs": [],
   "source": [
    "#The function deals with placing the partition field in the last place in the dataframe\n",
    "\n",
    "def sortForIncrementalLoad(input_df: DataFrame, partitionField: str):\n",
    "\n",
    "    #Order of fields in the dataframe\n",
    "    columns = [col for col in input_df.columns if col != partitionField] + [partitionField]\n",
    "\n",
    "    #Return sorted the dataframe\n",
    "    return input_df.select(columns)"
   ]
  },
  {
   "cell_type": "code",
   "execution_count": 0,
   "metadata": {
    "application/vnd.databricks.v1+cell": {
     "cellMetadata": {
      "byteLimit": 2048000,
      "rowLimit": 10000
     },
     "inputWidgets": {},
     "nuid": "9c50d633-65b8-4118-9a5d-39e48f3616ee",
     "showTitle": false,
     "tableResultSettingsMap": {},
     "title": ""
    }
   },
   "outputs": [],
   "source": [
    "#The function deals with loading data incrementally on delta files\n",
    "\n",
    "def incrementalLoadDelta(input_df: DataFrame, databaseName: str, tableName: str, folderPath: str, partitionField: str, mergeCondition: str):\n",
    "\n",
    "    #In this mode, Spark force to use a column to find a correct partition of the file. \\\n",
    "    #For example (target.race_id = src.race_id). It helps with performance.\n",
    "    spark.conf.set(\"spark.databricks.optimizer.dynamicPartitionPruning\", \"true\")\n",
    "\n",
    "    #If the table exists, merge the data based on mergeCondition. \n",
    "    if(spark._jsparkSession.catalog().tableExists(f\"{databaseName}.{tableName}\")):\n",
    "        \n",
    "        #Save existed delta table to variable for merge process\n",
    "        deltaTable = DeltaTable.forPath(spark, f\"{folderPath}/{tableName}\")\n",
    "        \n",
    "        #If the merge key is the same, update the entire row \n",
    "        #If the merge key is not the same, insert the entire row\n",
    "        deltaTable.alias(\"target\").merge( input_df.alias(\"source\"), mergeCondition) \\\n",
    "                                  .whenMatchedUpdateAll() \\\n",
    "                                  .whenNotMatchedInsertAll() \\\n",
    "                                  .execute()\n",
    "    #Otherwise create table and insert first data with partitioning by specified field\n",
    "    else:\n",
    "        input_df.write.mode(\"overwrite\") \\\n",
    "                      .partitionBy(partitionField) \\\n",
    "                      .format(\"delta\") \\\n",
    "                      .saveAsTable(f\"{databaseName}.{tableName}\")"
   ]
  }
 ],
 "metadata": {
  "application/vnd.databricks.v1+notebook": {
   "computePreferences": null,
   "dashboards": [],
   "environmentMetadata": {
    "base_environment": "",
    "environment_version": "2"
   },
   "inputWidgetPreferences": null,
   "language": "python",
   "notebookMetadata": {
    "pythonIndentUnit": 4
   },
   "notebookName": "incremental_load",
   "widgets": {}
  },
  "language_info": {
   "name": "python"
  }
 },
 "nbformat": 4,
 "nbformat_minor": 0
}
