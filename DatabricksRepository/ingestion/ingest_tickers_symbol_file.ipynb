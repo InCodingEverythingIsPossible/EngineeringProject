{
 "cells": [
  {
   "cell_type": "markdown",
   "metadata": {
    "application/vnd.databricks.v1+cell": {
     "cellMetadata": {
      "byteLimit": 2048000,
      "rowLimit": 10000
     },
     "inputWidgets": {},
     "nuid": "3ccc1886-d052-428d-a3ce-6505d72feda7",
     "showTitle": false,
     "tableResultSettingsMap": {},
     "title": ""
    }
   },
   "source": [
    "# Ingest tickers symbols"
   ]
  },
  {
   "cell_type": "code",
   "execution_count": 0,
   "metadata": {
    "application/vnd.databricks.v1+cell": {
     "cellMetadata": {
      "byteLimit": 2048000,
      "rowLimit": 10000
     },
     "inputWidgets": {},
     "nuid": "98907004-952a-4fd4-a524-f8d656ebfd98",
     "showTitle": false,
     "tableResultSettingsMap": {},
     "title": ""
    }
   },
   "outputs": [],
   "source": [
    "%run \"../utils/mount_configuration\""
   ]
  },
  {
   "cell_type": "code",
   "execution_count": 0,
   "metadata": {
    "application/vnd.databricks.v1+cell": {
     "cellMetadata": {
      "byteLimit": 2048000,
      "rowLimit": 10000
     },
     "inputWidgets": {},
     "nuid": "b206ac6f-ba05-47f1-94f0-56a7fc350ad6",
     "showTitle": false,
     "tableResultSettingsMap": {},
     "title": ""
    }
   },
   "outputs": [],
   "source": [
    "from pyspark.sql.types import StructType, StructField, LongType, StringType, ArrayType, BooleanType\n",
    "\n",
    "tickers_symbol_schema = StructType([\n",
    "  StructField(\"count\", LongType(), True),\n",
    "  StructField(\"next_url\", StringType(), True),\n",
    "  StructField(\"request_id\", StringType(), True),\n",
    "  StructField(\"results\", ArrayType(StructType([\n",
    "    StructField(\"ticker\", StringType(), True),\n",
    "    StructField(\"name\", StringType(), True),\n",
    "    StructField(\"market\", StringType(), True),\n",
    "    StructField(\"locale\", StringType(), True),\n",
    "    StructField(\"primary_exchange\", StringType(), True),\n",
    "    StructField(\"type\", StringType(), True),\n",
    "    StructField(\"active\", BooleanType(), True),\n",
    "    StructField(\"currency_name\", StringType(), True),\n",
    "    StructField(\"cik\", StringType(), True),\n",
    "    StructField(\"composite_figi\", StringType(), True),\n",
    "    StructField(\"share_class_figi\", StringType(), True),\n",
    "    StructField(\"last_updated_utc\", StringType(), True)\n",
    "  ])), True)\n",
    "])"
   ]
  },
  {
   "cell_type": "code",
   "execution_count": 0,
   "metadata": {
    "application/vnd.databricks.v1+cell": {
     "cellMetadata": {
      "byteLimit": 2048000,
      "implicitDf": true,
      "rowLimit": 10000
     },
     "inputWidgets": {},
     "nuid": "4123f73f-2b68-45be-9584-e49daeee843c",
     "showTitle": false,
     "tableResultSettingsMap": {},
     "title": ""
    }
   },
   "outputs": [],
   "source": [
    "tickers_symbol_df = spark.read \\\n",
    "    .schema(tickers_symbol_schema) \\\n",
    "    .json(f\"{raw_folder_path}/tickers_symbol/all_tickers_symbol*.json\")\n",
    "\n",
    "# display(tickers_symbol_df)"
   ]
  },
  {
   "cell_type": "code",
   "execution_count": 0,
   "metadata": {
    "application/vnd.databricks.v1+cell": {
     "cellMetadata": {
      "byteLimit": 2048000,
      "rowLimit": 10000
     },
     "inputWidgets": {},
     "nuid": "13482dcf-422d-43d1-b330-8c56e3f432c9",
     "showTitle": false,
     "tableResultSettingsMap": {},
     "title": ""
    }
   },
   "outputs": [],
   "source": [
    "from pyspark.sql.functions import explode, col\n",
    "\n",
    "tickers_symbol_final_df = tickers_symbol_df \\\n",
    "  .select(explode(col(\"results\")) \\\n",
    "  .alias(\"result\")) \\\n",
    "  .select(\"result.*\") \\\n",
    "  .withColumnRenamed(\"name\", \"company_name\") \\\n",
    "  .select(col(\"ticker\"), col(\"company_name\"))  \n",
    "  \n",
    "\n",
    "# display(tickers_symbol_final_df)"
   ]
  },
  {
   "cell_type": "code",
   "execution_count": 0,
   "metadata": {
    "application/vnd.databricks.v1+cell": {
     "cellMetadata": {
      "byteLimit": 2048000,
      "rowLimit": 10000
     },
     "inputWidgets": {},
     "nuid": "45e0e244-bd89-49ae-ae9b-1e5f8d7f4025",
     "showTitle": false,
     "tableResultSettingsMap": {},
     "title": ""
    }
   },
   "outputs": [],
   "source": [
    "tickers_symbol_final_df.write \\\n",
    "  .mode(\"overwrite\") \\\n",
    "  .format(\"delta\") \\\n",
    "  .saveAsTable(\"engineering_processed.tickers_symbol\")"
   ]
  },
  {
   "cell_type": "code",
   "execution_count": 0,
   "metadata": {
    "application/vnd.databricks.v1+cell": {
     "cellMetadata": {
      "byteLimit": 2048000,
      "implicitDf": true,
      "rowLimit": 10000
     },
     "inputWidgets": {},
     "nuid": "cb902ad9-370e-400e-a26d-9217c4dffc55",
     "showTitle": false,
     "tableResultSettingsMap": {},
     "title": ""
    }
   },
   "outputs": [],
   "source": [
    "%sql\n",
    "SELECT * FROM engineering_processed.tickers_symbol;"
   ]
  }
 ],
 "metadata": {
  "application/vnd.databricks.v1+notebook": {
   "computePreferences": null,
   "dashboards": [],
   "environmentMetadata": {
    "base_environment": "",
    "environment_version": "2"
   },
   "inputWidgetPreferences": null,
   "language": "python",
   "notebookMetadata": {
    "mostRecentlyExecutedCommandWithImplicitDF": {
     "commandId": 694046672347363,
     "dataframes": [
      "_sqldf"
     ]
    },
    "pythonIndentUnit": 4
   },
   "notebookName": "ingest_tickers_symbol_file",
   "widgets": {}
  },
  "language_info": {
   "name": "python"
  }
 },
 "nbformat": 4,
 "nbformat_minor": 0
}
