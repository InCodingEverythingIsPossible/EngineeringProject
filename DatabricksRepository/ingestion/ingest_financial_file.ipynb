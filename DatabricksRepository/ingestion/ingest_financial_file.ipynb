{
 "cells": [
  {
   "cell_type": "markdown",
   "metadata": {
    "application/vnd.databricks.v1+cell": {
     "cellMetadata": {
      "byteLimit": 2048000,
      "rowLimit": 10000
     },
     "inputWidgets": {},
     "nuid": "9fa7b62d-41be-4b4a-933c-4a75e13f763e",
     "showTitle": false,
     "tableResultSettingsMap": {},
     "title": ""
    }
   },
   "source": [
    "# Ingest tickers financials file"
   ]
  },
  {
   "cell_type": "code",
   "execution_count": 0,
   "metadata": {
    "application/vnd.databricks.v1+cell": {
     "cellMetadata": {
      "byteLimit": 2048000,
      "rowLimit": 10000
     },
     "inputWidgets": {},
     "nuid": "385ab774-beb9-4e67-bc71-d1000e334cfe",
     "showTitle": false,
     "tableResultSettingsMap": {},
     "title": ""
    }
   },
   "outputs": [],
   "source": [
    "%run \"../utils/mount_configuration\""
   ]
  },
  {
   "cell_type": "code",
   "execution_count": 0,
   "metadata": {
    "application/vnd.databricks.v1+cell": {
     "cellMetadata": {
      "byteLimit": 2048000,
      "rowLimit": 10000
     },
     "inputWidgets": {},
     "nuid": "51619985-3dc4-4fe8-9a5b-ec764c13a6a9",
     "showTitle": false,
     "tableResultSettingsMap": {},
     "title": ""
    }
   },
   "outputs": [],
   "source": [
    "%run \"../utils/incremental_load\""
   ]
  },
  {
   "cell_type": "code",
   "execution_count": 0,
   "metadata": {
    "application/vnd.databricks.v1+cell": {
     "cellMetadata": {
      "byteLimit": 2048000,
      "rowLimit": 10000
     },
     "inputWidgets": {},
     "nuid": "2239b7dd-61bb-4d37-bda0-c60518c644f3",
     "showTitle": false,
     "tableResultSettingsMap": {},
     "title": ""
    }
   },
   "outputs": [],
   "source": [
    "from pyspark.sql.types import StructType, StructField, StringType, ArrayType, LongType, DoubleType\n",
    "\n",
    "tickers_financial_schema = StructType([\n",
    "    StructField('request_id', StringType(), True), \n",
    "    StructField('results', ArrayType(\n",
    "        StructType([\n",
    "            StructField('acceptance_datetime', StringType(), True), \n",
    "            StructField('cik', StringType(), True), \n",
    "            StructField('company_name', StringType(), True), \n",
    "            StructField('end_date', StringType(), True), \n",
    "            StructField('filing_date', StringType(), True), \n",
    "            StructField('financials', StructType([\n",
    "                StructField('balance_sheet', StructType([\n",
    "                    StructField('accounts_payable', StructType([\n",
    "                        StructField('label', StringType(), True), \n",
    "                        StructField('order', LongType(), True), \n",
    "                        StructField('unit', StringType(), True), \n",
    "                        StructField('value', DoubleType(), True)]), True), \n",
    "                    StructField('assets', StructType([\n",
    "                        StructField('label', StringType(), True), \n",
    "                        StructField('order', LongType(), True), \n",
    "                        StructField('unit', StringType(), True), \n",
    "                        StructField('value', DoubleType(), True)]), True), \n",
    "                    StructField('current_assets', StructType([\n",
    "                        StructField('label', StringType(), True), \n",
    "                        StructField('order', LongType(), True), \n",
    "                        StructField('unit', StringType(), True), \n",
    "                        StructField('value', DoubleType(), True)]), True), \n",
    "                    StructField('current_liabilities', StructType([\n",
    "                        StructField('label', StringType(), True), \n",
    "                        StructField('order', LongType(), True), \n",
    "                        StructField('unit', StringType(), True), \n",
    "                        StructField('value', DoubleType(), True)]), True), \n",
    "                    StructField('equity', StructType([\n",
    "                        StructField('label', StringType(), True), \n",
    "                        StructField('order', LongType(), True), \n",
    "                        StructField('unit', StringType(), True), \n",
    "                        StructField('value', DoubleType(), True)]), True), \n",
    "                    StructField('equity_attributable_to_noncontrolling_interest', StructType([\n",
    "                        StructField('label', StringType(), True), \n",
    "                        StructField('order', LongType(), True), \n",
    "                        StructField('unit', StringType(), True), \n",
    "                        StructField('value', LongType(), True)]), True), \n",
    "                    StructField('equity_attributable_to_parent', StructType([\n",
    "                        StructField('label', StringType(), True), \n",
    "                        StructField('order', LongType(), True), \n",
    "                        StructField('unit', StringType(), True), \n",
    "                        StructField('value', DoubleType(), True)]), True), \n",
    "                    StructField('fixed_assets', StructType([\n",
    "                        StructField('label', StringType(), True), \n",
    "                        StructField('order', LongType(), True), \n",
    "                        StructField('unit', StringType(), True), \n",
    "                        StructField('value', DoubleType(), True)]), True), \n",
    "                    StructField('intangible_assets', StructType([\n",
    "                        StructField('label', StringType(), True), \n",
    "                        StructField('order', LongType(), True), \n",
    "                        StructField('unit', StringType(), True), \n",
    "                        StructField('value', DoubleType(), True)]), True), \n",
    "                    StructField('inventory', StructType([\n",
    "                        StructField('label', StringType(), True), \n",
    "                        StructField('order', LongType(), True), \n",
    "                        StructField('unit', StringType(), True), \n",
    "                        StructField('value', DoubleType(), True)]), True), \n",
    "                    StructField('liabilities', StructType([\n",
    "                        StructField('label', StringType(), True), \n",
    "                        StructField('order', LongType(), True), \n",
    "                        StructField('unit', StringType(), True), \n",
    "                        StructField('value', DoubleType(), True)]), True), \n",
    "                    StructField('liabilities_and_equity', StructType([\n",
    "                        StructField('label', StringType(), True), \n",
    "                        StructField('order', LongType(), True), \n",
    "                        StructField('unit', StringType(), True), \n",
    "                        StructField('value', DoubleType(), True)]), True), \n",
    "                    StructField('long_term_debt', StructType([\n",
    "                        StructField('label', StringType(), True), \n",
    "                        StructField('order', LongType(), True), \n",
    "                        StructField('unit', StringType(), True), \n",
    "                        StructField('value', DoubleType(), True)]), True), \n",
    "                    StructField('noncurrent_assets', StructType([\n",
    "                        StructField('label', StringType(), True), \n",
    "                        StructField('order', LongType(), True), \n",
    "                        StructField('unit', StringType(), True), \n",
    "                        StructField('value', DoubleType(), True)]), True), \n",
    "                    StructField('noncurrent_liabilities', StructType([\n",
    "                        StructField('label', StringType(), True), \n",
    "                        StructField('order', LongType(), True), \n",
    "                        StructField('unit', StringType(), True), \n",
    "                        StructField('value', DoubleType(), True)]), True), \n",
    "                    StructField('other_current_assets', StructType([\n",
    "                        StructField('label', StringType(), True), \n",
    "                        StructField('order', LongType(), True), \n",
    "                        StructField('unit', StringType(), True), \n",
    "                        StructField('value', DoubleType(), True)]), True), \n",
    "                    StructField('other_current_liabilities', StructType([\n",
    "                        StructField('label', StringType(), True), \n",
    "                        StructField('order', LongType(), True), \n",
    "                        StructField('unit', StringType(), True), \n",
    "                        StructField('value', DoubleType(), True)]), True), \n",
    "                    StructField('other_noncurrent_assets', StructType([\n",
    "                        StructField('label', StringType(), True), \n",
    "                        StructField('order', LongType(), True), \n",
    "                        StructField('unit', StringType(), True), \n",
    "                        StructField('value', DoubleType(), True)]), True), \n",
    "                    StructField('other_noncurrent_liabilities', StructType([\n",
    "                        StructField('label', StringType(), True), \n",
    "                        StructField('order', LongType(), True), \n",
    "                        StructField('unit', StringType(), True), \n",
    "                        StructField('value', DoubleType(), True)]), True), \n",
    "                    StructField('wages', StructType([\n",
    "                        StructField('label', StringType(), True), \n",
    "                        StructField('order', LongType(), True), \n",
    "                        StructField('unit', StringType(), True), \n",
    "                        StructField('value', DoubleType(), True)]), True)]), True), \n",
    "                StructField('cash_flow_statement', StructType([\n",
    "                    StructField('net_cash_flow', StructType([\n",
    "                        StructField('label', StringType(), True), \n",
    "                        StructField('order', LongType(), True), \n",
    "                        StructField('unit', StringType(), True), \n",
    "                        StructField('value', DoubleType(), True)]), True), \n",
    "                    StructField('net_cash_flow_continuing', StructType([\n",
    "                        StructField('label', StringType(), True), \n",
    "                        StructField('order', LongType(), True), \n",
    "                        StructField('unit', StringType(), True), \n",
    "                        StructField('value', DoubleType(), True)]), True), \n",
    "                    StructField('net_cash_flow_from_financing_activities', StructType([\n",
    "                        StructField('label', StringType(), True), \n",
    "                        StructField('order', LongType(), True), \n",
    "                        StructField('unit', StringType(), True), \n",
    "                        StructField('value', DoubleType(), True)]), True), \n",
    "                    StructField('net_cash_flow_from_financing_activities_continuing', StructType([\n",
    "                        StructField('label', StringType(), True), \n",
    "                        StructField('order', LongType(), True), \n",
    "                        StructField('unit', StringType(), True), \n",
    "                        StructField('value', DoubleType(), True)]), True), \n",
    "                    StructField('net_cash_flow_from_investing_activities', StructType([\n",
    "                        StructField('label', StringType(), True), \n",
    "                        StructField('order', LongType(), True), \n",
    "                        StructField('unit', StringType(), True), \n",
    "                        StructField('value', DoubleType(), True)]), True), \n",
    "                    StructField('net_cash_flow_from_investing_activities_continuing', StructType([\n",
    "                        StructField('label', StringType(), True), \n",
    "                        StructField('order', LongType(), True), \n",
    "                        StructField('unit', StringType(), True), \n",
    "                        StructField('value', DoubleType(), True)]), True), \n",
    "                    StructField('net_cash_flow_from_operating_activities', StructType([\n",
    "                        StructField('label', StringType(), True), \n",
    "                        StructField('order', LongType(), True), \n",
    "                        StructField('unit', StringType(), True), \n",
    "                        StructField('value', DoubleType(), True)]), True), \n",
    "                    StructField('net_cash_flow_from_operating_activities_continuing', StructType([\n",
    "                        StructField('label', StringType(), True), \n",
    "                        StructField('order', LongType(), True), \n",
    "                        StructField('unit', StringType(), True), \n",
    "                        StructField('value', DoubleType(), True)]), True)]), True), \n",
    "                StructField('comprehensive_income', StructType([\n",
    "                    StructField('comprehensive_income_loss', StructType([\n",
    "                        StructField('label', StringType(), True), \n",
    "                        StructField('order', LongType(), True), \n",
    "                        StructField('unit', StringType(), True), \n",
    "                        StructField('value', DoubleType(), True)]), True), \n",
    "                    StructField('comprehensive_income_loss_attributable_to_noncontrolling_interest', StructType([\n",
    "                        StructField('label', StringType(), True), \n",
    "                        StructField('order', LongType(), True), \n",
    "                        StructField('unit', StringType(), True), \n",
    "                        StructField('value', LongType(), True)]), True), \n",
    "                    StructField('comprehensive_income_loss_attributable_to_parent', StructType([\n",
    "                        StructField('label', StringType(), True), \n",
    "                        StructField('order', LongType(), True), \n",
    "                        StructField('unit', StringType(), True), \n",
    "                        StructField('value', DoubleType(), True)]), True), \n",
    "                    StructField('other_comprehensive_income_loss', StructType([\n",
    "                        StructField('label', StringType(), True), \n",
    "                        StructField('order', LongType(), True), \n",
    "                        StructField('unit', StringType(), True), \n",
    "                        StructField('value', DoubleType(), True)]), True), \n",
    "                    StructField('other_comprehensive_income_loss_attributable_to_parent', StructType([\n",
    "                        StructField('label', StringType(), True), \n",
    "                        StructField('order', LongType(), True), \n",
    "                        StructField('unit', StringType(), True), \n",
    "                        StructField('value', DoubleType(), True)]), True)]), True), \n",
    "                StructField('income_statement', StructType([\n",
    "                    StructField('basic_average_shares', StructType([\n",
    "                        StructField('label', StringType(), True), \n",
    "                        StructField('order', LongType(), True), \n",
    "                        StructField('unit', StringType(), True), \n",
    "                        StructField('value', DoubleType(), True)]), True), \n",
    "                    StructField('basic_earnings_per_share', StructType([\n",
    "                        StructField('label', StringType(), True), \n",
    "                        StructField('order', LongType(), True), \n",
    "                        StructField('unit', StringType(), True), \n",
    "                        StructField('value', DoubleType(), True)]), True), \n",
    "                    StructField('benefits_costs_expenses', StructType([\n",
    "                        StructField('label', StringType(), True), \n",
    "                        StructField('order', LongType(), True), \n",
    "                        StructField('unit', StringType(), True), \n",
    "                        StructField('value', DoubleType(), True)]), True), \n",
    "                    StructField('cost_of_revenue', StructType([\n",
    "                        StructField('label', StringType(), True), \n",
    "                        StructField('order', LongType(), True), \n",
    "                        StructField('unit', StringType(), True), \n",
    "                        StructField('value', DoubleType(), True)]), True), \n",
    "                    StructField('costs_and_expenses', StructType([\n",
    "                        StructField('label', StringType(), True), \n",
    "                        StructField('order', LongType(), True), \n",
    "                        StructField('unit', StringType(), True), \n",
    "                        StructField('value', DoubleType(), True)]), True), \n",
    "                    StructField('depreciation_and_amortization', StructType([\n",
    "                        StructField('label', StringType(), True), \n",
    "                        StructField('order', LongType(), True), \n",
    "                        StructField('unit', StringType(), True), \n",
    "                        StructField('value', DoubleType(), True)]), True), \n",
    "                    StructField('diluted_average_shares', StructType([\n",
    "                        StructField('label', StringType(), True), \n",
    "                        StructField('order', LongType(), True), \n",
    "                        StructField('unit', StringType(), True), \n",
    "                        StructField('value', DoubleType(), True)]), True), \n",
    "                    StructField('diluted_earnings_per_share', StructType([\n",
    "                        StructField('label', StringType(), True), \n",
    "                        StructField('order', LongType(), True), \n",
    "                        StructField('unit', StringType(), True), \n",
    "                        StructField('value', DoubleType(), True)]), True), \n",
    "                    StructField('gross_profit', StructType([\n",
    "                        StructField('label', StringType(), True), \n",
    "                        StructField('order', LongType(), True), \n",
    "                        StructField('unit', StringType(), True), \n",
    "                        StructField('value', DoubleType(), True)]), True), \n",
    "                    StructField('income_loss_before_equity_method_investments', StructType([\n",
    "                        StructField('label', StringType(), True), \n",
    "                        StructField('order', LongType(), True), \n",
    "                        StructField('unit', StringType(), True), \n",
    "                        StructField('value', DoubleType(), True)]), True), \n",
    "                    StructField('income_loss_from_continuing_operations_after_tax', StructType([\n",
    "                        StructField('label', StringType(), True), \n",
    "                        StructField('order', LongType(), True), \n",
    "                        StructField('unit', StringType(), True), \n",
    "                        StructField('value', DoubleType(), True)]), True), \n",
    "                    StructField('income_loss_from_continuing_operations_before_tax', StructType([\n",
    "                        StructField('label', StringType(), True), \n",
    "                        StructField('order', LongType(), True), \n",
    "                        StructField('unit', StringType(), True), \n",
    "                        StructField('value', DoubleType(), True)]), True), \n",
    "                    StructField('income_tax_expense_benefit', StructType([\n",
    "                        StructField('label', StringType(), True), \n",
    "                        StructField('order', LongType(), True), \n",
    "                        StructField('unit', StringType(), True), \n",
    "                        StructField('value', DoubleType(), True)]), True), \n",
    "                    StructField('income_tax_expense_benefit_deferred', StructType([\n",
    "                        StructField('label', StringType(), True), \n",
    "                        StructField('order', LongType(), True), \n",
    "                        StructField('unit', StringType(), True), \n",
    "                        StructField('value', DoubleType(), True)]), True), \n",
    "                    StructField('interest_expense_operating', StructType([\n",
    "                        StructField('label', StringType(), True), \n",
    "                        StructField('order', LongType(), True), \n",
    "                        StructField('unit', StringType(), True), \n",
    "                        StructField('value', DoubleType(), True)]), True), \n",
    "                    StructField('net_income_loss', StructType([\n",
    "                        StructField('label', StringType(), True), \n",
    "                        StructField('order', LongType(), True), \n",
    "                        StructField('unit', StringType(), True), \n",
    "                        StructField('value', DoubleType(), True)]), True), \n",
    "                    StructField('net_income_loss_attributable_to_noncontrolling_interest', StructType([\n",
    "                        StructField('label', StringType(), True), \n",
    "                        StructField('order', LongType(), True), \n",
    "                        StructField('unit', StringType(), True), \n",
    "                        StructField('value', LongType(), True)]), True), \n",
    "                    StructField('net_income_loss_attributable_to_parent', StructType([\n",
    "                        StructField('label', StringType(), True), \n",
    "                        StructField('order', LongType(), True), \n",
    "                        StructField('unit', StringType(), True), \n",
    "                        StructField('value', DoubleType(), True)]), True), \n",
    "                    StructField('net_income_loss_available_to_common_stockholders_basic', StructType([\n",
    "                        StructField('label', StringType(), True), \n",
    "                        StructField('order', LongType(), True), \n",
    "                        StructField('unit', StringType(), True), \n",
    "                        StructField('value', DoubleType(), True)]), True), \n",
    "                    StructField('nonoperating_income_loss', StructType([\n",
    "                        StructField('label', StringType(), True), \n",
    "                        StructField('order', LongType(), True), \n",
    "                        StructField('unit', StringType(), True), \n",
    "                        StructField('value', DoubleType(), True)]), True), \n",
    "                    StructField('operating_expenses', StructType([\n",
    "                        StructField('label', StringType(), True), \n",
    "                        StructField('order', LongType(), True), \n",
    "                        StructField('unit', StringType(), True), \n",
    "                        StructField('value', DoubleType(), True)]), True), \n",
    "                    StructField('operating_income_loss', StructType([\n",
    "                        StructField('label', StringType(), True), \n",
    "                        StructField('order', LongType(), True), \n",
    "                        StructField('unit', StringType(), True), \n",
    "                        StructField('value', DoubleType(), True)]), True), \n",
    "                    StructField('participating_securities_distributed_and_undistributed_earnings_loss_basic', StructType([\n",
    "                        StructField('label', StringType(), True), \n",
    "                        StructField('order', LongType(), True), \n",
    "                        StructField('unit', StringType(), True), \n",
    "                        StructField('value', LongType(), True)]), True), \n",
    "                    StructField('preferred_stock_dividends_and_other_adjustments', StructType([\n",
    "                        StructField('label', StringType(), True), \n",
    "                        StructField('order', LongType(), True), \n",
    "                        StructField('unit', StringType(), True), \n",
    "                        StructField('value', LongType(), True)]), True), \n",
    "                    StructField('research_and_development', StructType([\n",
    "                        StructField('label', StringType(), True), \n",
    "                        StructField('order', LongType(), True), \n",
    "                        StructField('unit', StringType(), True), \n",
    "                        StructField('value', DoubleType(), True)]), True), \n",
    "                    StructField('revenues', StructType([\n",
    "                        StructField('label', StringType(), True), \n",
    "                        StructField('order', LongType(), True), \n",
    "                        StructField('unit', StringType(), True), \n",
    "                        StructField('value', DoubleType(), True)]), True), \n",
    "                    StructField('selling_general_and_administrative_expenses', StructType([\n",
    "                        StructField('label', StringType(), True), \n",
    "                        StructField('order', LongType(), True), \n",
    "                        StructField('unit', StringType(), True), \n",
    "                        StructField('value', DoubleType(), True)]), True)]), True)]), True), \n",
    "            StructField('fiscal_period', StringType(), True), \n",
    "            StructField('fiscal_year', StringType(), True), \n",
    "            StructField('sic', StringType(), True), \n",
    "            StructField('source_filing_file_url', StringType(), True),\n",
    "             StructField('source_filing_url', StringType(), True), \n",
    "             StructField('start_date', StringType(), True), \n",
    "             StructField('tickers', ArrayType(StringType(), True), True), \n",
    "             StructField('timeframe', StringType(), True)]), True), True), \n",
    "    StructField('status', StringType(), True)])"
   ]
  },
  {
   "cell_type": "code",
   "execution_count": 0,
   "metadata": {
    "application/vnd.databricks.v1+cell": {
     "cellMetadata": {
      "byteLimit": 2048000,
      "rowLimit": 10000
     },
     "inputWidgets": {},
     "nuid": "efd513b8-f947-418c-a0cc-b21a1214db81",
     "showTitle": false,
     "tableResultSettingsMap": {},
     "title": ""
    }
   },
   "outputs": [],
   "source": [
    "tickers_financial_df = spark.read \\\n",
    "    .schema(tickers_financial_schema) \\\n",
    "    .json(f\"{raw_folder_path}/financial_data/*\")\n",
    "\n",
    "# display(tickers_financial_df)"
   ]
  },
  {
   "cell_type": "code",
   "execution_count": 0,
   "metadata": {
    "application/vnd.databricks.v1+cell": {
     "cellMetadata": {
      "byteLimit": 2048000,
      "rowLimit": 10000
     },
     "inputWidgets": {},
     "nuid": "eff4553f-ded3-44c7-b3c9-84781e645131",
     "showTitle": false,
     "tableResultSettingsMap": {},
     "title": ""
    }
   },
   "outputs": [],
   "source": [
    "from pyspark.sql.functions import explode, col, element_at, year, current_date\n",
    "\n",
    "# Extract data for last 4 years\n",
    "selected_columns_df = tickers_financial_df \\\n",
    "    .withColumn(\"exploded_results\", explode(\"results\")) \\\n",
    "    .select(\n",
    "        element_at(col(\"exploded_results.tickers\"), 1).alias(\"ticker\"),\n",
    "        col(\"exploded_results.financials.income_statement.net_income_loss.value\").alias(\"net_income_loss\"),\n",
    "        col(\"exploded_results.financials.balance_sheet.liabilities.value\").alias(\"liabilities\"),\n",
    "        col(\"exploded_results.financials.balance_sheet.equity.value\").alias(\"equity\"),\n",
    "        col(\"exploded_results.financials.balance_sheet.assets.value\").alias(\"assets\"),\n",
    "        col(\"exploded_results.financials.balance_sheet.current_assets.value\").alias(\"current_assets\"),\n",
    "        col(\"exploded_results.financials.balance_sheet.current_liabilities.value\").alias(\"current_liabilities\"),\n",
    "        col(\"exploded_results.financials.balance_sheet.long_term_debt.value\").alias(\"long_term_debt\"),\n",
    "        col(\"exploded_results.financials.income_statement.interest_expense_operating.value\").alias(\"interest_expense_operating\"),\n",
    "        col(\"exploded_results.financials.income_statement.income_tax_expense_benefit.value\").alias(\"income_tax_expense_benefit\"),\n",
    "        col(\"exploded_results.financials.income_statement.depreciation_and_amortization.value\").alias(\"depreciation_and_amortization\"),\n",
    "        col(\"exploded_results.financials.income_statement.revenues.value\").alias(\"revenues\"),\n",
    "        \"exploded_results.fiscal_period\",\n",
    "        \"exploded_results.fiscal_year\",\n",
    "        \"exploded_results.start_date\",\n",
    "        \"exploded_results.end_date\") \\\n",
    "    .filter(col(\"exploded_results.fiscal_year\") >= (year(current_date()) - 3))\n",
    "    \n",
    "# display(selected_columns_df)"
   ]
  },
  {
   "cell_type": "code",
   "execution_count": 0,
   "metadata": {
    "application/vnd.databricks.v1+cell": {
     "cellMetadata": {
      "byteLimit": 2048000,
      "rowLimit": 10000
     },
     "inputWidgets": {},
     "nuid": "f29c89ac-95d0-4d19-a29c-714ae01e6a23",
     "showTitle": false,
     "tableResultSettingsMap": {},
     "title": ""
    }
   },
   "outputs": [],
   "source": [
    "from pyspark.sql.functions import sum, max, collect_set, col, array_contains\n",
    "\n",
    "# Filter to take records only from Q1, Q2, Q3\n",
    "filtered_df = selected_columns_df \\\n",
    "        .filter(col(\"fiscal_period\").isin([\"Q1\", \"Q2\", \"Q3\"]))\n",
    "\n",
    "# Check if for a given fiscal year all three quarters are present\n",
    "valid_tickers = filtered_df \\\n",
    "        .groupBy(\"ticker\", \"fiscal_year\") \\\n",
    "        .agg(collect_set(\"fiscal_period\").alias(\"quarters\")) \\\n",
    "        .filter(array_contains(col(\"quarters\"), \"Q1\") & \n",
    "                array_contains(col(\"quarters\"), \"Q2\") & \n",
    "                array_contains(col(\"quarters\"), \"Q3\")) \\\n",
    "        .select(\"ticker\", \"fiscal_year\")\n",
    "\n",
    "# Return only those records that are valid and have all quarters\n",
    "valid_data = filtered_df \\\n",
    "        .join(valid_tickers, on=[\"ticker\", \"fiscal_year\"], how=\"inner\")\n",
    "\n",
    "# Group all Q1, Q2, Q3 to calculate Q4\n",
    "quarterly_sum_df = valid_data \\\n",
    "        .groupBy(\"ticker\", \"fiscal_year\") \\\n",
    "        .agg(sum(\"net_income_loss\").alias(\"net_income_loss_sum\"),\n",
    "             sum(\"interest_expense_operating\").alias(\"interest_expense_operating_sum\"),\n",
    "             sum(\"income_tax_expense_benefit\").alias(\"income_tax_expense_benefit_sum\"),\n",
    "             sum(\"revenues\").alias(\"revenues_sum\"),\n",
    "             max(\"end_date\").alias(\"start_date_max\"))\n",
    "\n",
    "# display(valid_tickers)\n",
    "# display(valid_data)\n",
    "# display(quarterly_sum_df)"
   ]
  },
  {
   "cell_type": "code",
   "execution_count": 0,
   "metadata": {
    "application/vnd.databricks.v1+cell": {
     "cellMetadata": {
      "byteLimit": 2048000,
      "rowLimit": 10000
     },
     "inputWidgets": {},
     "nuid": "20b3913d-0b44-4029-9e83-54a6781fcfc2",
     "showTitle": false,
     "tableResultSettingsMap": {},
     "title": ""
    }
   },
   "outputs": [],
   "source": [
    "from pyspark.sql.functions import col, lit, date_add\n",
    "\n",
    "# Derive Q4 values by subtracting the sum of Q1–Q3 from full-year (FY) values\n",
    "creation_q4_df = selected_columns_df \\\n",
    "    .filter(selected_columns_df[\"fiscal_period\"] == \"FY\") \\\n",
    "    .join(quarterly_sum_df, on=[\"ticker\", \"fiscal_year\"], how=\"inner\") \\\n",
    "    .withColumn(\"net_income_loss\", col(\"net_income_loss\") - col(\"net_income_loss_sum\")) \\\n",
    "    .withColumn(\"interest_expense_operating\", col(\"interest_expense_operating\") - col(\"interest_expense_operating_sum\")) \\\n",
    "    .withColumn(\"income_tax_expense_benefit\", col(\"income_tax_expense_benefit\") - col(\"income_tax_expense_benefit_sum\")) \\\n",
    "    .withColumn(\"revenues\", col(\"revenues\") - col(\"revenues_sum\")) \\\n",
    "    .withColumn(\"fiscal_period\", lit(\"Q4\")) \\\n",
    "    .withColumn(\"start_date\", date_add(col(\"start_date_max\"), 1)) \\\n",
    "    .drop(\n",
    "        \"net_income_loss_sum\", \"interest_expense_operating_sum\" \"income_tax_expense_benefit_sum\", \n",
    "        \"revenues_sum\", \"start_date_max\") \\\n",
    "    .select(\n",
    "        'ticker', 'net_income_loss', 'liabilities', 'equity', 'assets', 'current_assets', 'current_liabilities', \n",
    "        'long_term_debt', 'interest_expense_operating', 'income_tax_expense_benefit', 'depreciation_and_amortization', \n",
    "        'revenues', 'fiscal_period', 'fiscal_year', 'start_date', 'end_date')"
   ]
  },
  {
   "cell_type": "code",
   "execution_count": 0,
   "metadata": {
    "application/vnd.databricks.v1+cell": {
     "cellMetadata": {
      "byteLimit": 2048000,
      "rowLimit": 10000
     },
     "inputWidgets": {},
     "nuid": "00c3669c-44f5-4901-a70b-6dc8cc2205e5",
     "showTitle": false,
     "tableResultSettingsMap": {},
     "title": ""
    }
   },
   "outputs": [],
   "source": [
    "from pyspark.sql.functions import asc, desc, coalesce, lit, to_date\n",
    "from pyspark.sql.window import Window\n",
    "\n",
    "#Combine original and derived Q4 records\n",
    "#Replace nulls with zeros to ensure accurate calculations\n",
    "#Convert date columns from string to date type (required for window functions)\n",
    "merged_financial_df = selected_columns_df \\\n",
    "    .union(creation_q4_df) \\\n",
    "    .withColumn(\"interest_expense_operating\", coalesce(\"interest_expense_operating\", lit(0))) \\\n",
    "    .withColumn(\"depreciation_and_amortization\", coalesce(\"depreciation_and_amortization\", lit(0))) \\\n",
    "    .withColumn(\"long_term_debt\", coalesce(\"long_term_debt\", lit(0))) \\\n",
    "    .withColumn(\"start_date\", to_date(\"start_date\")) \\\n",
    "    .withColumn(\"end_date\", to_date(\"end_date\")) \\\n",
    "    .orderBy(asc(\"ticker\"), asc(\"fiscal_year\"))\n",
    "\n",
    "# display(merged_financial_df)"
   ]
  },
  {
   "cell_type": "code",
   "execution_count": 0,
   "metadata": {
    "application/vnd.databricks.v1+cell": {
     "cellMetadata": {
      "byteLimit": 2048000,
      "rowLimit": 10000
     },
     "inputWidgets": {},
     "nuid": "996dfd15-109b-4c5f-aa62-259307a88070",
     "showTitle": false,
     "tableResultSettingsMap": {},
     "title": ""
    }
   },
   "outputs": [],
   "source": [
    "from pyspark.sql import Window\n",
    "from pyspark.sql.functions import col, row_number, when, current_date\n",
    "\n",
    "# Define a window partitioned by ticker and ordered by start_date descending\n",
    "window_spec = Window.partitionBy(\"ticker\").orderBy(col(\"start_date\").desc())\n",
    "\n",
    "#Filter for quarterly records (Q*) and add row numbers within each ticker group\n",
    "df_q = merged_financial_df \\\n",
    "     .filter(col(\"fiscal_period\").like(\"Q%\")) \\\n",
    "     .withColumn(\"row_num\", row_number().over(window_spec))\n",
    "\n",
    "#Filter for full-year (FY) records and add row numbers within each ticker group\n",
    "df_fy = merged_financial_df \\\n",
    "     .filter(col(\"fiscal_period\") == \"FY\") \\\n",
    "     .withColumn(\"row_num\", row_number().over(window_spec))\n",
    "\n",
    "#Combine quarterly and full-year records\n",
    "#Update end_date for the most recent row, and drop the temporary row number column\n",
    "final_financial_df = df_q \\\n",
    "     .union(df_fy) \\\n",
    "     .withColumn(\"end_date\", \n",
    "          when(col(\"row_num\") == 1, current_date()).otherwise(col(\"end_date\"))) \\\n",
    "     .drop(\"row_num\")\n",
    "\n",
    "# display(final_financial_df)\n"
   ]
  },
  {
   "cell_type": "code",
   "execution_count": 0,
   "metadata": {
    "application/vnd.databricks.v1+cell": {
     "cellMetadata": {
      "byteLimit": 2048000,
      "rowLimit": 10000
     },
     "inputWidgets": {},
     "nuid": "06273d2a-42e4-4af3-9431-88cb542a91e1",
     "showTitle": false,
     "tableResultSettingsMap": {},
     "title": ""
    }
   },
   "outputs": [],
   "source": [
    "mergeCondition = \"\"\"target.ticker = source.ticker AND \n",
    "                    target.fiscal_period = source.fiscal_period AND\n",
    "                    target.fiscal_year = source.fiscal_year\"\"\""
   ]
  },
  {
   "cell_type": "code",
   "execution_count": 0,
   "metadata": {
    "application/vnd.databricks.v1+cell": {
     "cellMetadata": {
      "byteLimit": 2048000,
      "rowLimit": 10000
     },
     "inputWidgets": {},
     "nuid": "bbdce5b1-ac91-4ab0-8061-d5067b87f8d5",
     "showTitle": false,
     "tableResultSettingsMap": {},
     "title": ""
    }
   },
   "outputs": [],
   "source": [
    "incrementalLoadDelta(input_df=final_financial_df, databaseName=\"engineering_processed\", tableName=\"tickers_financial\", \n",
    "                     folderPath=processed_folder_path, partitionField=\"ticker\",mergeCondition=mergeCondition)"
   ]
  },
  {
   "cell_type": "code",
   "execution_count": 0,
   "metadata": {
    "application/vnd.databricks.v1+cell": {
     "cellMetadata": {
      "byteLimit": 2048000,
      "implicitDf": true,
      "rowLimit": 10000
     },
     "inputWidgets": {},
     "nuid": "59efe084-49aa-42ba-bef1-c699f03d65a6",
     "showTitle": false,
     "tableResultSettingsMap": {},
     "title": ""
    }
   },
   "outputs": [],
   "source": [
    "%sql\n",
    "SELECT * FROM engineering_processed.tickers_financial;"
   ]
  }
 ],
 "metadata": {
  "application/vnd.databricks.v1+notebook": {
   "computePreferences": null,
   "dashboards": [],
   "environmentMetadata": {
    "base_environment": "",
    "environment_version": "2"
   },
   "inputWidgetPreferences": null,
   "language": "python",
   "notebookMetadata": {
    "mostRecentlyExecutedCommandWithImplicitDF": {
     "commandId": 4108415850297439,
     "dataframes": [
      "_sqldf"
     ]
    },
    "pythonIndentUnit": 4
   },
   "notebookName": "ingest_financial_file",
   "widgets": {}
  },
  "language_info": {
   "name": "python"
  }
 },
 "nbformat": 4,
 "nbformat_minor": 0
}
