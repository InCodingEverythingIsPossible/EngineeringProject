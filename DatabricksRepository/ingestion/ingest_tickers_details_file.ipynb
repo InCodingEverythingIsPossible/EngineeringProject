{
 "cells": [
  {
   "cell_type": "markdown",
   "metadata": {
    "application/vnd.databricks.v1+cell": {
     "cellMetadata": {},
     "inputWidgets": {},
     "nuid": "84746538-8200-4b55-a004-a548ad94a8dc",
     "showTitle": false,
     "tableResultSettingsMap": {},
     "title": ""
    }
   },
   "source": [
    "# Ingest tickers details file"
   ]
  },
  {
   "cell_type": "code",
   "execution_count": 0,
   "metadata": {
    "application/vnd.databricks.v1+cell": {
     "cellMetadata": {
      "byteLimit": 2048000,
      "rowLimit": 10000
     },
     "inputWidgets": {},
     "nuid": "41353b1f-54b6-46e3-9b50-654a46aa7d7e",
     "showTitle": false,
     "tableResultSettingsMap": {},
     "title": ""
    }
   },
   "outputs": [],
   "source": [
    "%run \"../utils/mount_configuration\""
   ]
  },
  {
   "cell_type": "code",
   "execution_count": 0,
   "metadata": {
    "application/vnd.databricks.v1+cell": {
     "cellMetadata": {
      "byteLimit": 2048000,
      "rowLimit": 10000
     },
     "inputWidgets": {},
     "nuid": "c90e0933-fbb8-4678-97de-512e018673ba",
     "showTitle": false,
     "tableResultSettingsMap": {},
     "title": ""
    }
   },
   "outputs": [],
   "source": [
    "%run \"../utils/incremental_load\""
   ]
  },
  {
   "cell_type": "code",
   "execution_count": 0,
   "metadata": {
    "application/vnd.databricks.v1+cell": {
     "cellMetadata": {
      "byteLimit": 2048000,
      "rowLimit": 10000
     },
     "inputWidgets": {},
     "nuid": "8f250e3a-0529-48b8-87ed-008c74d7dc9d",
     "showTitle": false,
     "tableResultSettingsMap": {},
     "title": ""
    }
   },
   "outputs": [],
   "source": [
    "from pyspark.sql.types import StructType, StructField, LongType, StringType, BooleanType, DoubleType\n",
    "\n",
    "tickers_details_schema = StructType([\n",
    "    StructField('request_id', StringType(), True), \n",
    "    StructField('results', StructType([\n",
    "        StructField('active', BooleanType(), True), \n",
    "        StructField('address', StructType([\n",
    "            StructField('address1', StringType(), True), \n",
    "            StructField('city', StringType(), True), \n",
    "            StructField('postal_code', StringType(), True), \n",
    "            StructField('state', StringType(), True)]), True), \n",
    "        StructField('branding', StructType([\n",
    "            StructField('icon_url', StringType(), True), \n",
    "            StructField('logo_url', StringType(), True)]), True), \n",
    "        StructField('cik', StringType(), True), \n",
    "        StructField('composite_figi', StringType(), True), \n",
    "        StructField('currency_name', StringType(), True), \n",
    "        StructField('description', StringType(), True), \n",
    "        StructField('homepage_url', StringType(), True), \n",
    "        StructField('list_date', StringType(), True), \n",
    "        StructField('locale', StringType(), True), \n",
    "        StructField('market', StringType(), True), \n",
    "        StructField('market_cap', DoubleType(), True), \n",
    "        StructField('name', StringType(), True), \n",
    "        StructField('phone_number', StringType(), True), \n",
    "        StructField('primary_exchange', StringType(), True), \n",
    "        StructField('round_lot', LongType(), True), \n",
    "        StructField('share_class_figi', StringType(), True), \n",
    "        StructField('share_class_shares_outstanding', LongType(), True), \n",
    "        StructField('sic_code', StringType(), True), \n",
    "        StructField('sic_description', StringType(), True), \n",
    "        StructField('ticker', StringType(), True), \n",
    "        StructField('ticker_root', StringType(), True), \n",
    "        StructField('total_employees', LongType(), True), \n",
    "        StructField('type', StringType(), True), \n",
    "        StructField('weighted_shares_outstanding', LongType(), True)]), True), \n",
    "    StructField('status', StringType(), True)])"
   ]
  },
  {
   "cell_type": "code",
   "execution_count": 0,
   "metadata": {
    "application/vnd.databricks.v1+cell": {
     "cellMetadata": {
      "byteLimit": 2048000,
      "rowLimit": 10000
     },
     "inputWidgets": {},
     "nuid": "c0d58912-8899-45c6-8b08-2e5358cc446b",
     "showTitle": false,
     "tableResultSettingsMap": {},
     "title": ""
    }
   },
   "outputs": [],
   "source": [
    "from pyspark.sql.functions import input_file_name, regexp_extract\n",
    "\n",
    "tickers_details_df = spark.read \\\n",
    "    .schema(tickers_details_schema) \\\n",
    "    .json(f\"{raw_folder_path}/tickers_detail/*\") \\\n",
    "    .withColumn(\"filename\", regexp_extract(input_file_name(), \".*/(.*)\", 1))\n",
    "\n",
    "# display(tickers_details_df)"
   ]
  },
  {
   "cell_type": "code",
   "execution_count": 0,
   "metadata": {
    "application/vnd.databricks.v1+cell": {
     "cellMetadata": {
      "byteLimit": 2048000,
      "rowLimit": 10000
     },
     "inputWidgets": {},
     "nuid": "26d0fa1d-f458-4db4-b63e-3b2bb9e908d1",
     "showTitle": false,
     "tableResultSettingsMap": {},
     "title": ""
    }
   },
   "outputs": [],
   "source": [
    "from pyspark.sql.functions import split, col, to_date\n",
    "\n",
    "tickers_details_final_df = tickers_details_df \\\n",
    "        .withColumn(\"date\", to_date(split(split(col(\"filename\"), \"_\")[2], \"\\\\.\")[0])) \\\n",
    "        .select(\"results.ticker\", \"results.name\", \"results.market_cap\",\n",
    "                \"results.type\", \"results.primary_exchange\", \"results.weighted_shares_outstanding\",\n",
    "                \"results.total_employees\", \"date\")\n",
    "\n",
    "# display(tickers_details_final_df)"
   ]
  },
  {
   "cell_type": "code",
   "execution_count": 0,
   "metadata": {
    "application/vnd.databricks.v1+cell": {
     "cellMetadata": {
      "byteLimit": 2048000,
      "rowLimit": 10000
     },
     "inputWidgets": {},
     "nuid": "e82f573d-8fc3-4a64-8030-1bc07988477c",
     "showTitle": false,
     "tableResultSettingsMap": {},
     "title": ""
    }
   },
   "outputs": [],
   "source": [
    "mergeCondition = \"\"\"target.ticker = source.ticker AND \n",
    "                    target.date = source.date\"\"\""
   ]
  },
  {
   "cell_type": "code",
   "execution_count": 0,
   "metadata": {
    "application/vnd.databricks.v1+cell": {
     "cellMetadata": {
      "byteLimit": 2048000,
      "rowLimit": 10000
     },
     "inputWidgets": {},
     "nuid": "eb02dfa4-6cd1-4963-967c-689da545d184",
     "showTitle": false,
     "tableResultSettingsMap": {},
     "title": ""
    }
   },
   "outputs": [],
   "source": [
    "incrementalLoadDelta(input_df=tickers_details_final_df, databaseName=\"engineering_processed\", tableName=\"tickers_details\", \n",
    "                     folderPath=processed_folder_path, partitionField=\"ticker\",mergeCondition=mergeCondition)"
   ]
  },
  {
   "cell_type": "code",
   "execution_count": 0,
   "metadata": {
    "application/vnd.databricks.v1+cell": {
     "cellMetadata": {
      "byteLimit": 2048000,
      "implicitDf": true,
      "rowLimit": 10000
     },
     "inputWidgets": {},
     "nuid": "f2090b91-c9ba-4ab9-94f7-bc17ef1c0d4a",
     "showTitle": false,
     "tableResultSettingsMap": {},
     "title": ""
    }
   },
   "outputs": [],
   "source": [
    "%sql\n",
    "SELECT * FROM engineering_processed.tickers_details;"
   ]
  }
 ],
 "metadata": {
  "application/vnd.databricks.v1+notebook": {
   "computePreferences": null,
   "dashboards": [],
   "environmentMetadata": {
    "base_environment": "",
    "environment_version": "2"
   },
   "inputWidgetPreferences": null,
   "language": "python",
   "notebookMetadata": {
    "mostRecentlyExecutedCommandWithImplicitDF": {
     "commandId": 3280030659174097,
     "dataframes": [
      "_sqldf"
     ]
    },
    "pythonIndentUnit": 4
   },
   "notebookName": "ingest_tickers_details_file",
   "widgets": {}
  },
  "language_info": {
   "name": "python"
  }
 },
 "nbformat": 4,
 "nbformat_minor": 0
}
