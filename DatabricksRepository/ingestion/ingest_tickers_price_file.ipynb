{
 "cells": [
  {
   "cell_type": "markdown",
   "metadata": {
    "application/vnd.databricks.v1+cell": {
     "cellMetadata": {
      "byteLimit": 2048000,
      "rowLimit": 10000
     },
     "inputWidgets": {},
     "nuid": "39e715b0-1dde-4fa2-84bc-49ac9fe313f4",
     "showTitle": false,
     "tableResultSettingsMap": {},
     "title": ""
    }
   },
   "source": [
    "# Ingest tickers price file"
   ]
  },
  {
   "cell_type": "code",
   "execution_count": 0,
   "metadata": {
    "application/vnd.databricks.v1+cell": {
     "cellMetadata": {
      "byteLimit": 2048000,
      "rowLimit": 10000
     },
     "inputWidgets": {},
     "nuid": "987730c9-eba8-48dc-8794-ec292ac8acce",
     "showTitle": false,
     "tableResultSettingsMap": {},
     "title": ""
    }
   },
   "outputs": [],
   "source": [
    "%run \"../utils/mount_configuration\""
   ]
  },
  {
   "cell_type": "code",
   "execution_count": 0,
   "metadata": {
    "application/vnd.databricks.v1+cell": {
     "cellMetadata": {
      "byteLimit": 2048000,
      "rowLimit": 10000
     },
     "inputWidgets": {},
     "nuid": "9f6bdfef-37b8-42e6-bbdb-949d27b821ab",
     "showTitle": false,
     "tableResultSettingsMap": {},
     "title": ""
    }
   },
   "outputs": [],
   "source": [
    "%run \"../utils/incremental_load\""
   ]
  },
  {
   "cell_type": "code",
   "execution_count": 0,
   "metadata": {
    "application/vnd.databricks.v1+cell": {
     "cellMetadata": {
      "byteLimit": 2048000,
      "rowLimit": 10000
     },
     "inputWidgets": {},
     "nuid": "4b63a01c-11c4-45b5-add3-8811c5c9885a",
     "showTitle": false,
     "tableResultSettingsMap": {},
     "title": ""
    }
   },
   "outputs": [],
   "source": [
    "from pyspark.sql.types import StructType, StructField, LongType, StringType, ArrayType, BooleanType, DoubleType\n",
    "\n",
    "tickers_price_schema = StructType([\n",
    "    StructField('adjusted', BooleanType(), True), \n",
    "    StructField('count', LongType(), True), \n",
    "    StructField('queryCount', LongType(), True), \n",
    "    StructField('request_id', StringType(), True), \n",
    "    StructField('results', ArrayType(\n",
    "        StructType([StructField('c', DoubleType(), True), \n",
    "                    StructField('h', DoubleType(), True), \n",
    "                    StructField('l', DoubleType(), True), \n",
    "                    StructField('n', LongType(), True), \n",
    "                    StructField('o', DoubleType(), True), \n",
    "                    StructField('t', LongType(), True), \n",
    "                    StructField('v', DoubleType(), True), \n",
    "                    StructField('vw', DoubleType(), True)]), \\\n",
    "        True), True), \n",
    "    StructField('resultsCount', LongType(), True), \n",
    "    StructField('status', StringType(), True), StructField('ticker', StringType(), True)])"
   ]
  },
  {
   "cell_type": "code",
   "execution_count": 0,
   "metadata": {
    "application/vnd.databricks.v1+cell": {
     "cellMetadata": {
      "byteLimit": 2048000,
      "rowLimit": 10000
     },
     "inputWidgets": {},
     "nuid": "b952ef7c-c03b-45ab-9e0b-f925e306e6c8",
     "showTitle": false,
     "tableResultSettingsMap": {},
     "title": ""
    }
   },
   "outputs": [],
   "source": [
    "tickers_price_df = spark.read \\\n",
    "    .schema(tickers_price_schema) \\\n",
    "    .json(f\"{raw_folder_path}/tickers_price/*\")\n",
    "\n",
    "# display(tickers_price_df)"
   ]
  },
  {
   "cell_type": "code",
   "execution_count": 0,
   "metadata": {
    "application/vnd.databricks.v1+cell": {
     "cellMetadata": {
      "byteLimit": 2048000,
      "rowLimit": 10000
     },
     "inputWidgets": {},
     "nuid": "febcb059-ab29-4b4e-85de-2a031d2833f7",
     "showTitle": false,
     "tableResultSettingsMap": {},
     "title": ""
    }
   },
   "outputs": [],
   "source": [
    "from pyspark.sql.functions import col, explode, from_unixtime\n",
    "\n",
    "tickers_price_final_df = tickers_price_df \\\n",
    "        .select(\"ticker\", explode(\"results\").alias(\"result\")) \\\n",
    "        .select(\"ticker\", \n",
    "                col(\"result.c\").alias(\"close_price\"),\n",
    "                col(\"result.h\").alias(\"highest_price\"),\n",
    "                col(\"result.l\").alias(\"lowest_price\"),\n",
    "                col(\"result.o\").alias(\"open_price\"), \n",
    "                col(\"result.t\").alias(\"timestamp\")) \\\n",
    "        .withColumn(\"date\", from_unixtime(col(\"timestamp\") / 1000).cast(\"date\")) \\\n",
    "        .drop(\"timestamp\")\n",
    "\n",
    "# display(tickers_price_exploded_df)"
   ]
  },
  {
   "cell_type": "code",
   "execution_count": 0,
   "metadata": {
    "application/vnd.databricks.v1+cell": {
     "cellMetadata": {
      "byteLimit": 2048000,
      "rowLimit": 10000
     },
     "inputWidgets": {},
     "nuid": "70d44217-9aa9-49c6-a329-d64019df0a65",
     "showTitle": false,
     "tableResultSettingsMap": {},
     "title": ""
    }
   },
   "outputs": [],
   "source": [
    "mergeCondition = \"\"\"target.ticker = source.ticker AND \n",
    "                    target.date = source.date\"\"\"\n"
   ]
  },
  {
   "cell_type": "code",
   "execution_count": 0,
   "metadata": {
    "application/vnd.databricks.v1+cell": {
     "cellMetadata": {
      "byteLimit": 2048000,
      "rowLimit": 10000
     },
     "inputWidgets": {},
     "nuid": "46b817d9-e1dc-4646-aebb-1c5931a4d4fd",
     "showTitle": false,
     "tableResultSettingsMap": {},
     "title": ""
    }
   },
   "outputs": [],
   "source": [
    "incrementalLoadDelta(input_df=tickers_price_final_df, databaseName=\"engineering_processed\", tableName=\"tickers_price\", \n",
    "                     folderPath=processed_folder_path, partitionField=\"ticker\",mergeCondition=mergeCondition)"
   ]
  },
  {
   "cell_type": "code",
   "execution_count": 0,
   "metadata": {
    "application/vnd.databricks.v1+cell": {
     "cellMetadata": {
      "byteLimit": 2048000,
      "implicitDf": true,
      "rowLimit": 10000
     },
     "inputWidgets": {},
     "nuid": "edab1097-12f0-499c-a7c5-66db83e0e6dc",
     "showTitle": false,
     "tableResultSettingsMap": {},
     "title": ""
    }
   },
   "outputs": [],
   "source": [
    "%sql\n",
    "SELECT * FROM engineering_processed.tickers_price"
   ]
  }
 ],
 "metadata": {
  "application/vnd.databricks.v1+notebook": {
   "computePreferences": null,
   "dashboards": [],
   "environmentMetadata": {
    "base_environment": "",
    "environment_version": "2"
   },
   "inputWidgetPreferences": null,
   "language": "python",
   "notebookMetadata": {
    "mostRecentlyExecutedCommandWithImplicitDF": {
     "commandId": 694046672347343,
     "dataframes": [
      "_sqldf"
     ]
    },
    "pythonIndentUnit": 4
   },
   "notebookName": "ingest_tickers_price_file",
   "widgets": {}
  },
  "language_info": {
   "name": "python"
  }
 },
 "nbformat": 4,
 "nbformat_minor": 0
}
